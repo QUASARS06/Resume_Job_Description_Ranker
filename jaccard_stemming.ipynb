{
 "cells": [
  {
   "cell_type": "code",
   "execution_count": 1,
   "id": "bed3edc4-15ad-4a2e-8eca-a9dd780094c1",
   "metadata": {},
   "outputs": [],
   "source": [
    "import pandas as pd\n",
    "import os\n",
    "import fitz  # PyMuPDF\n",
    "import pandas as pd\n",
    "import re\n",
    "from collections import defaultdict\n",
    "import spacy\n",
    "pd.set_option('display.max_colwidth', None)\n",
    "nlp = spacy.load(\"en_core_web_sm\")"
   ]
  },
  {
   "cell_type": "code",
   "execution_count": 2,
   "id": "a71c1ba2-074b-4515-9f84-1e7b0a239513",
   "metadata": {},
   "outputs": [],
   "source": [
    "def show_common_tokens(resume_name, jd_id, resume_tokens, jd_data):\n",
    "    if resume_name not in resume_tokens:\n",
    "        print(f\"Resume '{resume_name}' not found.\")\n",
    "        return\n",
    "    if jd_id not in jd_data:\n",
    "        print(f\"JD ID '{jd_id}' not found.\")\n",
    "        return\n",
    "    \n",
    "    r_tokens = resume_tokens[resume_name]\n",
    "    jd_tokens = jd_data[jd_id]['tokens']\n",
    "    common = r_tokens.intersection(jd_tokens)\n",
    "    \n",
    "    print(f\"\\n=== Common Tokens between Resume '{resume_name}' and JD ID {jd_id} ===\")\n",
    "    print(f\"=== Resume token length: {len(r_tokens)} and JD token length: {len(jd_tokens)} ===\")\n",
    "    print(f\"Job Title: {jd_data[jd_id]['job_title']}\")\n",
    "    print(f\"Jaccard Score: {jaccard_similarity(r_tokens, jd_tokens):.3f}\")\n",
    "    print(\"Common Tokens (sorted):\")\n",
    "    for word in sorted(common):\n",
    "        print(f\"- {word}\")"
   ]
  },
  {
   "cell_type": "code",
   "execution_count": 3,
   "id": "c7f3812b-e3b9-4baa-89ea-1b3b142d4291",
   "metadata": {},
   "outputs": [],
   "source": [
    "def print_full_jd(jd_data, jd_id):\n",
    "    if jd_id not in jd_data:\n",
    "        print(f\"JD ID {jd_id} not found.\")\n",
    "        return\n",
    "    print(f\"\\n=== JD ID {jd_id} ===\")\n",
    "    print(f\"Job Title: {jd_data[jd_id]['job_title']}\")\n",
    "    print(f\"Description:\\n{jd_data[jd_id]['full_desc']}\")"
   ]
  },
  {
   "cell_type": "code",
   "execution_count": 4,
   "id": "72053e11-56ef-4ee8-a3d5-1f2d0a76cc7a",
   "metadata": {},
   "outputs": [],
   "source": [
    "def extract_text_from_pdf(pdf_path):\n",
    "    text = \"\"\n",
    "    try:\n",
    "        with fitz.open(pdf_path) as doc:\n",
    "            for page in doc:\n",
    "                text += page.get_text()\n",
    "    except Exception as e:\n",
    "        print(f\"Error reading {pdf_path}: {e}\")\n",
    "    return text"
   ]
  },
  {
   "cell_type": "code",
   "execution_count": 5,
   "id": "1cc10271-0d2e-442d-96d3-ddb6136db21f",
   "metadata": {},
   "outputs": [],
   "source": [
    "def tokenize(text):\n",
    "    doc = nlp(text.lower())\n",
    "    tokens = set()\n",
    "    for token in doc:\n",
    "        if not token.is_stop and not token.is_punct and not token.like_num and token.is_alpha:\n",
    "            tokens.add(token.lemma_)  # ← this is lemmatization!\n",
    "    return tokens"
   ]
  },
  {
   "cell_type": "code",
   "execution_count": 6,
   "id": "28312e78-228e-43a9-8454-4138eb9f3247",
   "metadata": {},
   "outputs": [],
   "source": [
    "def jaccard_similarity(set1, set2):\n",
    "    intersection = set1.intersection(set2)\n",
    "    union = set1.union(set2)\n",
    "    return len(intersection) / len(union) if union else 0"
   ]
  },
  {
   "cell_type": "code",
   "execution_count": 7,
   "id": "f1e4d3d0-c60e-4445-b100-90404f9ac1b2",
   "metadata": {},
   "outputs": [],
   "source": [
    "def process_resumes(folder_path):\n",
    "    resume_data = {}\n",
    "    for fname in os.listdir(folder_path):\n",
    "        if fname.endswith('.pdf'):\n",
    "            full_path = os.path.join(folder_path, fname)\n",
    "            text = extract_text_from_pdf(full_path)\n",
    "            tokens = tokenize(text)\n",
    "            resume_data[fname] = tokens\n",
    "    return resume_data"
   ]
  },
  {
   "cell_type": "code",
   "execution_count": 8,
   "id": "c4134e2f-1999-415c-9072-6a7a72554614",
   "metadata": {},
   "outputs": [],
   "source": [
    "def process_job_descriptions(csv_path):\n",
    "    df = pd.read_csv(csv_path)\n",
    "    jd_data = {}\n",
    "    for idx, row in df.iterrows():\n",
    "        jd_text = str(row['Job Description'])\n",
    "        tokens = tokenize(jd_text)\n",
    "        jd_data[idx] = {\n",
    "            'job_title': row.get('Job Title', ''),\n",
    "            'tokens': tokens,\n",
    "            'full_desc': jd_text.strip()\n",
    "        }\n",
    "    return jd_data"
   ]
  },
  {
   "cell_type": "code",
   "execution_count": 9,
   "id": "053012f2-12b7-4dc7-bda4-dc294028b571",
   "metadata": {},
   "outputs": [],
   "source": [
    "def match_resumes_to_jobs(resume_tokens, jd_data, top_k=10):\n",
    "    results = defaultdict(list)\n",
    "    for resume_name, r_tokens in resume_tokens.items():\n",
    "        scores = []\n",
    "        for jd_id, jd_info in jd_data.items():\n",
    "            score = jaccard_similarity(r_tokens, jd_info['tokens'])\n",
    "            scores.append((jd_id, score, jd_info['job_title']))\n",
    "        top_matches = sorted(scores, key=lambda x: -x[1])[:top_k]\n",
    "        results[resume_name] = top_matches\n",
    "    return results"
   ]
  },
  {
   "cell_type": "code",
   "execution_count": 10,
   "id": "2ebdc9bb-d3b9-4a9a-9a37-dde09a137b09",
   "metadata": {},
   "outputs": [],
   "source": [
    "categories = ['INFORMATION-TECHNOLOGY']\n",
    "base_resume_dir = './resume_pds/data/data'\n",
    "jd_csv_path = 'job_title_des.csv'"
   ]
  },
  {
   "cell_type": "code",
   "execution_count": 11,
   "id": "958b8a04-9bcb-4ea7-8a8c-f2dfc536b19b",
   "metadata": {},
   "outputs": [],
   "source": [
    "jd_data = process_job_descriptions(jd_csv_path)"
   ]
  },
  {
   "cell_type": "code",
   "execution_count": 12,
   "id": "9bbc63c6-58b4-40b5-9d36-8d7dfe58a0ce",
   "metadata": {},
   "outputs": [],
   "source": [
    "resume_tokens = {}\n",
    "for category in categories:\n",
    "    folder_path = os.path.join(base_resume_dir, category)\n",
    "    resume_tokens.update(process_resumes(folder_path))"
   ]
  },
  {
   "cell_type": "code",
   "execution_count": 13,
   "id": "889ebe08-3739-4e6e-b9bc-48bb9eccc26c",
   "metadata": {},
   "outputs": [],
   "source": [
    "results = match_resumes_to_jobs(resume_tokens, jd_data)"
   ]
  },
  {
   "cell_type": "code",
   "execution_count": 14,
   "id": "4b42c7b5-1670-45e5-9044-62928fe79328",
   "metadata": {},
   "outputs": [
    {
     "name": "stdout",
     "output_type": "stream",
     "text": [
      "\n",
      "=== JD ID 1088 ===\n",
      "Job Title: PHP Developer\n",
      "Description:\n",
      "1. Minimum 3+ years of solid development experience in developing web applications with Core PHP, MySQL\n",
      "HTML,HTML5, CSS3, Jquery/Ajax and JavaScript.\n",
      "3. Good Experience on web technologies including HTML, Javascript, JQuery, AJAX.\n",
      "4. Strong knowledge client-side scripting and JavaScript libraries, jQuery etc.\n",
      "5. Strong knowledge on Database/Web application Design (Mysql, MSSQL).\n",
      "6. Good understanding of Web and Social Media applications/ Cross Browser / Mobile Best Practices.\n",
      "7. Good understanding of asynchronous request handling, partial page updates, and AJAX.\n",
      "8. Knowledge on Flash, Flex, actionscript will be a plus.\n",
      "9. Excellent communication, self-motivator, team player, ability to solve complex problems, design &\n",
      "requirements documentation.\n",
      "10. Candidate should have good knowledge of the OOPS concept.\n",
      "Job Type: Full-time\n",
      "Salary: ₹30,000.00 - ₹45,000.00 per month\n",
      "Schedule:\n",
      "Day shift\n",
      "Experience:\n",
      "software development: 3 years (Preferred)\n",
      "total work: 3 years (Required)\n",
      "Education:\n",
      "Higher Secondary(12th Pass) (Required)\n",
      "Licence:\n",
      "Core PHP (Preferred)\n",
      "Programming Languages needed:\n",
      "HTML (Required)\n",
      "CSS (Required)\n",
      "JavaScript (Required)\n",
      "PHP (Required)\n",
      "Work Remotely:\n",
      "No\n"
     ]
    }
   ],
   "source": [
    "print_full_jd(jd_data, jd_id=1088)"
   ]
  },
  {
   "cell_type": "code",
   "execution_count": 15,
   "id": "e009ad37-3dcb-4ae1-920f-e4b84e2fe684",
   "metadata": {},
   "outputs": [
    {
     "name": "stdout",
     "output_type": "stream",
     "text": [
      "\n",
      "Resume: 20674668.pdf\n",
      "  JD ID: 2244 | Title: Backend Developer... | Score: 0.230\n",
      "  JD ID: 374 | Title: Java Developer... | Score: 0.213\n",
      "  JD ID: 302 | Title: Full Stack Developer... | Score: 0.213\n",
      "  JD ID: 234 | Title: Java Developer... | Score: 0.203\n",
      "  JD ID: 1749 | Title: Software Engineer... | Score: 0.201\n",
      "  JD ID: 431 | Title: DevOps Engineer... | Score: 0.200\n",
      "  JD ID: 736 | Title: Full Stack Developer... | Score: 0.200\n",
      "  JD ID: 1822 | Title: Software Engineer... | Score: 0.199\n",
      "  JD ID: 625 | Title: Database Administrator... | Score: 0.199\n",
      "  JD ID: 1991 | Title: Software Engineer... | Score: 0.198\n"
     ]
    }
   ],
   "source": [
    "ct = 0\n",
    "sc = -1\n",
    "nm = ''\n",
    "jd = 0\n",
    "for resume, matches in results.items():\n",
    "    if not resume == '20674668.pdf':\n",
    "        continue\n",
    "    print(f\"\\nResume: {resume}\")\n",
    "    for jd_id, score, title in matches:\n",
    "        print(f\"  JD ID: {jd_id} | Title: {title[:40]}... | Score: {score:.3f}\")\n",
    "        # if(score > sc):\n",
    "        #     sc = score\n",
    "        #     nm = resume\n",
    "        #     jd = jd_id\n",
    "\n",
    "    # ct+=1\n",
    "    # if(ct > 20):\n",
    "    #     break\n",
    "\n",
    "# print(nm, sc, jd_id)"
   ]
  },
  {
   "cell_type": "code",
   "execution_count": 16,
   "id": "d31b5ad3-2180-4cff-a287-d6c54255f8cf",
   "metadata": {},
   "outputs": [
    {
     "name": "stdout",
     "output_type": "stream",
     "text": [
      "\n",
      "=== Common Tokens between Resume '20674668.pdf' and JD ID 1088 ===\n",
      "=== Resume token length: 286 and JD token length: 81 ===\n",
      "Job Title: PHP Developer\n",
      "Jaccard Score: 0.116\n",
      "Common Tokens (sorted):\n",
      "- ability\n",
      "- ajax\n",
      "- application\n",
      "- client\n",
      "- complex\n",
      "- core\n",
      "- css\n",
      "- database\n",
      "- design\n",
      "- develop\n",
      "- development\n",
      "- documentation\n",
      "- excellent\n",
      "- experience\n",
      "- high\n",
      "- html\n",
      "- include\n",
      "- javascript\n",
      "- jquery\n",
      "- knowledge\n",
      "- language\n",
      "- need\n",
      "- php\n",
      "- practice\n",
      "- problem\n",
      "- programming\n",
      "- request\n",
      "- requirement\n",
      "- scripting\n",
      "- software\n",
      "- solve\n",
      "- strong\n",
      "- team\n",
      "- technology\n",
      "- update\n",
      "- web\n",
      "- work\n",
      "- year\n"
     ]
    }
   ],
   "source": [
    "# After matching resumes and getting resume_tokens and jd_data\n",
    "show_common_tokens(\"20674668.pdf\", 1088, resume_tokens, jd_data)"
   ]
  },
  {
   "cell_type": "code",
   "execution_count": null,
   "id": "0f7c766f-1f13-47f8-b4de-8b89c8a98718",
   "metadata": {},
   "outputs": [],
   "source": []
  },
  {
   "cell_type": "code",
   "execution_count": null,
   "id": "3f0646e3-b672-45a4-971d-552b072f7c82",
   "metadata": {},
   "outputs": [],
   "source": []
  }
 ],
 "metadata": {
  "kernelspec": {
   "display_name": "Python 3 (ipykernel)",
   "language": "python",
   "name": "python3"
  },
  "language_info": {
   "codemirror_mode": {
    "name": "ipython",
    "version": 3
   },
   "file_extension": ".py",
   "mimetype": "text/x-python",
   "name": "python",
   "nbconvert_exporter": "python",
   "pygments_lexer": "ipython3",
   "version": "3.12.9"
  }
 },
 "nbformat": 4,
 "nbformat_minor": 5
}
