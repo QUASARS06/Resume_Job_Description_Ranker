{
 "cells": [
  {
   "cell_type": "code",
   "execution_count": 1,
   "id": "14399635-a989-487f-93e6-34400dda2e4b",
   "metadata": {},
   "outputs": [],
   "source": [
    "import re, string, random, math, pickle, numpy as np, pandas as pd\n",
    "from collections import Counter\n",
    "from pathlib import Path\n",
    "from tqdm import tqdm\n",
    "import spacy\n",
    "from rank_bm25 import BM25Okapi\n",
    "\n",
    "RESUME_PARQUET       = \"resumes.parquet\"\n",
    "JD_PARQUET           = \"job_description.parquet\"\n",
    "GOLD_RESUMES_CSV     = \"./gold_samples/resumes_samples.csv\"\n",
    "GOLD_JDS_CSV         = \"./gold_samples/job_desc_sampled.csv\"\n",
    "GOLD_TOP10_PATH      = \"gold_res.txt\"\n",
    "\n",
    "CACHE_DIR            = Path(\"./cache_bm25\")\n",
    "CACHE_DIR.mkdir(exist_ok=True)\n",
    "\n",
    "K = 10"
   ]
  },
  {
   "cell_type": "code",
   "execution_count": 2,
   "id": "c98adc0b-f86a-4f06-a673-48cc5f0056f0",
   "metadata": {},
   "outputs": [],
   "source": [
    "EXTRA_STOP = {\n",
    "    \"experience\",\"experiences\",\"years\",\"year\",\"requirements\",\"requirement\",\n",
    "    \"responsibilities\",\"responsibility\",\"ability\",\"excellent\",\"strong\",\n",
    "    \"demonstrated\",\"proven\",\"successful\",\"successfully\",\"including\",\"etc\",\n",
    "    \"must\",\"will\",\"role\",\"position\",\"candidate\",\"applicant\",\"opportunity\",\n",
    "    \"team\",\"teams\",\"work\",\"working\",\"environment\",\"environments\",\"dynamic\",\n",
    "    \"fast‑paced\",\"communication\",\"communications\",\"written\",\"verbal\",\n",
    "    \"skills\",\"skill\",\"interpersonal\",\"detail\",\"details\",\"organization\",\n",
    "    \"organizational\",\"problem\",\"problems\",\"solve\",\"solving\",\"solutions\",\n",
    "    \"solution\",\"manage\",\"management\",\"managed\",\"managing\",\"lead\",\"leading\",\n",
    "    \"leadership\",\"support\",\"supporting\",\"supported\",\"ensure\",\"ensuring\",\n",
    "    \"responsible\",\"provide\",\"providing\",\"provided\",\"perform\",\"performing\",\n",
    "    \"performed\",\"deliver\",\"delivering\",\"delivered\",\"design\",\"designing\",\n",
    "    \"designed\",\"develop\",\"developing\",\"developed\",\"development\",\"process\",\n",
    "    \"processes\",\"project\",\"projects\",\"business\",\"client\",\"clients\",\"customer\",\n",
    "    \"customers\",\"stakeholder\",\"stakeholders\",\"company\",\"companies\",\"function\",\n",
    "    \"functions\",\"functional\",\"collaborate\",\"collaborating\",\"collaboration\",\n",
    "    \"across\",\"within\",\"preferred\",\"plus\",\"bonus\",\"equivalent\",\"related\",\n",
    "    \"knowledge\",\"familiar\",\"familiarity\",\"understanding\",\"concepts\"\n",
    "}\n",
    "\n",
    "ALIAS_MAP = {\n",
    "    \"k8s\":\"kubernetes\",\"gke\":\"kubernetes\",\"eks\":\"kubernetes\",\"aks\":\"kubernetes\",\n",
    "    \"gcp\":\"google‑cloud\",\"aws\":\"amazon‑web‑services\",\"azure\":\"microsoft‑azure\",\n",
    "    \"js\":\"javascript\",\"nodejs\":\"node‑js\",\"node.js\":\"node‑js\",\n",
    "    \".net\":\"dotnet\",\"asp.net\":\"aspnet\",\"c#\":\"csharp\",\"c++\":\"cpp\",\n",
    "    \"py\":\"python\",\"ts\":\"typescript\",\"tf\":\"tensorflow\",\"tfserving\":\"tensorflow‑serving\",\n",
    "    \"np\":\"numpy\",\"ml\":\"machine‑learning\",\"dl\":\"deep‑learning\",\"pytorch\":\"torch\",\n",
    "    \"gql\":\"graphql\",\"sqlserver\":\"sql‑server\",\"tsql\":\"t‑sql\",\"postgres\":\"postgresql\",\n",
    "    \"psql\":\"postgresql\",\"mongo\":\"mongodb\",\"ci/cd\":\"continuous‑integration‑continuous‑delivery\",\n",
    "    \"ci\":\"continuous‑integration\",\"cd\":\"continuous‑delivery\",\"infra\":\"infrastructure\",\n",
    "    \"svc\":\"service\",\"svc‑mesh\":\"service‑mesh\",\"msgq\":\"message‑queue\",\n",
    "    \"msg‑q\":\"message‑queue\",\"gh\":\"github\"\n",
    "}"
   ]
  },
  {
   "cell_type": "code",
   "execution_count": 4,
   "id": "c2b7e2b9-d548-4162-8cad-fd13f14087da",
   "metadata": {},
   "outputs": [
    {
     "name": "stdout",
     "output_type": "stream",
     "text": [
      "Loading cached big‑corpus tokens …\n"
     ]
    }
   ],
   "source": [
    "\n",
    "nlp = spacy.load(\"en_core_web_sm\", disable=[\"ner\", \"parser\"])\n",
    "BASE_STOP = set(nlp.Defaults.stop_words)\n",
    "punct_tbl = str.maketrans(\"\", \"\", string.punctuation)\n",
    "\n",
    "def normalize(text: str) -> list[str]:\n",
    "    text = text.translate(punct_tbl).lower()\n",
    "    for k, v in ALIAS_MAP.items():\n",
    "        text = text.replace(k, v)\n",
    "    doc = nlp(text)\n",
    "    return [t.lemma_ for t in doc if t.is_alpha and len(t) > 2]\n",
    "\n",
    "\n",
    "BIG_JD_TOK_PATH   = CACHE_DIR / \"jd_tokens.pkl\"\n",
    "BIG_RES_TOK_PATH  = CACHE_DIR / \"resume_tokens_full.pkl\"\n",
    "AUTO_STOP_PATH    = CACHE_DIR / \"auto_stop.pkl\"\n",
    "\n",
    "if BIG_JD_TOK_PATH.exists() and AUTO_STOP_PATH.exists():\n",
    "    print(\"Loading cached big‑corpus tokens …\")\n",
    "    with BIG_JD_TOK_PATH.open(\"rb\") as fh:   big_jd_tokens  = pickle.load(fh)\n",
    "    with BIG_RES_TOK_PATH.open(\"rb\") as fh:  big_res_tokens = pickle.load(fh)\n",
    "    with AUTO_STOP_PATH.open(\"rb\") as fh:    AUTO_STOP      = pickle.load(fh)\n",
    "else:\n",
    "    print(\"Reading parquet …\")\n",
    "    df_resumes = pd.read_parquet(RESUME_PARQUET)\n",
    "    df_jds     = pd.read_parquet(JD_PARQUET)\n",
    "\n",
    "    print(\"Tokenizing big JD corpus …\")\n",
    "    big_jd_tokens  = [normalize(t) for t in tqdm(df_jds.job_description)]\n",
    "\n",
    "    print(\"Tokenizing big résumé corpus …\")\n",
    "    big_res_tokens = [normalize(t) for t in tqdm(df_resumes.resume_text)]\n",
    "\n",
    "    def learn_stop(tok_lists, thresh=0.75, sample=50_000):\n",
    "        sample_lists = random.sample(tok_lists, min(sample, len(tok_lists)))\n",
    "        df = Counter()\n",
    "        for lst in sample_lists: df.update(set(lst))\n",
    "        cut = math.ceil(thresh * len(sample_lists))\n",
    "        return {t for t, n in df.items() if n >= cut}\n",
    "\n",
    "    AUTO_STOP = learn_stop(big_jd_tokens + big_res_tokens, 0.75)\n",
    "\n",
    "    for path, obj in [(BIG_JD_TOK_PATH, big_jd_tokens),\n",
    "                      (BIG_RES_TOK_PATH, big_res_tokens),\n",
    "                      (AUTO_STOP_PATH,    AUTO_STOP)]:\n",
    "        with path.open(\"wb\") as fh: pickle.dump(obj, fh, protocol=4)\n",
    "    print(f\"Cached tokens & auto‑stop‑list → {CACHE_DIR}\")\n",
    "\n",
    "STOPWORDS = BASE_STOP | EXTRA_STOP | AUTO_STOP\n",
    "def drop_stop(lst): return [t for t in lst if t not in STOPWORDS]"
   ]
  },
  {
   "cell_type": "code",
   "execution_count": 5,
   "id": "27e61343-0d91-42a5-a230-6bfca11ebc01",
   "metadata": {},
   "outputs": [
    {
     "name": "stdout",
     "output_type": "stream",
     "text": [
      "Tokenizing gold JDs …\n"
     ]
    },
    {
     "name": "stderr",
     "output_type": "stream",
     "text": [
      "100%|███████████████████████████████████████████| 50/50 [00:01<00:00, 25.93it/s]\n"
     ]
    },
    {
     "name": "stdout",
     "output_type": "stream",
     "text": [
      "Tokenizing gold résumés …\n"
     ]
    },
    {
     "name": "stderr",
     "output_type": "stream",
     "text": [
      "100%|███████████████████████████████████████████| 50/50 [00:00<00:00, 58.87it/s]\n"
     ]
    },
    {
     "name": "stdout",
     "output_type": "stream",
     "text": [
      "\n",
      "Prediction sample:\n",
      "   resume_id                                          top10_jds\n",
      "0        R1  [JD2, JD38, JD40, JD4, JD18, JD1, JD17, JD5, J...\n",
      "1        R2  [JD38, JD1, JD3, JD40, JD5, JD37, JD31, JD2, J...\n",
      "2        R3  [JD1, JD10, JD5, JD38, JD2, JD31, JD36, JD3, J...\n",
      "3        R4  [JD1, JD38, JD31, JD5, JD47, JD40, JD6, JD37, ...\n",
      "4        R5  [JD1, JD5, JD38, JD4, JD2, JD37, JD7, JD40, JD...\n",
      "\n",
      "──────── Accuracy on gold 50×50 ────────\n",
      "Precision@10:   0.4060\n",
      "Recall@10:      0.4060\n",
      "Top‑10 accuracy: 0.9600\n",
      "MRR@10:          0.6593\n",
      "NDCG@10:         0.4350\n"
     ]
    }
   ],
   "source": [
    "\n",
    "gold_resumes_df = pd.read_csv(GOLD_RESUMES_CSV)\n",
    "gold_jds_df     = pd.read_csv(GOLD_JDS_CSV)\n",
    "\n",
    "print(\"Tokenizing gold JDs …\")\n",
    "gold_jd_tokens  = [drop_stop(normalize(t)) for t in tqdm(gold_jds_df.job_description)]\n",
    "\n",
    "print(\"Tokenizing gold résumés …\")\n",
    "gold_res_tokens = [drop_stop(normalize(t)) for t in tqdm(gold_resumes_df.resume_text)]\n",
    "\n",
    "\n",
    "bm25 = BM25Okapi(gold_jd_tokens)      \n",
    "jd_ids_arr = gold_jds_df.jd_id.to_numpy()\n",
    "\n",
    "\n",
    "pred = {}\n",
    "for rid, qtok in zip(gold_resumes_df.resume_id, gold_res_tokens):\n",
    "    scores = bm25.get_scores(qtok)\n",
    "    top_idx = np.argpartition(-scores, K-1)[:K]\n",
    "    top_idx = top_idx[np.argsort(scores[top_idx])[::-1]]\n",
    "    pred[rid] = jd_ids_arr[top_idx].tolist()\n",
    "\n",
    "pred_df = pd.DataFrame({\"resume_id\": list(pred.keys()),\n",
    "                        \"top10_jds\": list(pred.values())})\n",
    "print(\"\\nPrediction sample:\\n\", pred_df.head())\n",
    "\n",
    "\n",
    "gold_map = {}\n",
    "with open(GOLD_TOP10_PATH) as fh:\n",
    "    for ln in fh:\n",
    "        if not ln.strip(): continue\n",
    "        rid, rest = ln.split(\":\", 1)\n",
    "        gold_map[rid.strip()] = re.findall(r'JD\\d+', rest)\n",
    "\n",
    "def dcg(rel): return sum(r/np.log2(i+2) for i,r in enumerate(rel))\n",
    "\n",
    "prec, rec, acc, rr, ndcg = [], [], [], [], []\n",
    "for rid, gold_jds in gold_map.items():\n",
    "    if rid not in pred: continue\n",
    "    hits = [int(j in gold_jds) for j in pred[rid]]\n",
    "    prec.append(np.mean(hits))\n",
    "    rec.append(sum(hits)/len(gold_jds))\n",
    "    acc.append(int(any(hits)))\n",
    "    rr.append(next((1/(i+1) for i,h in enumerate(hits) if h), 0))\n",
    "    ndcg.append(dcg(hits)/dcg([1]*min(len(gold_jds),K)))\n",
    "\n",
    "print(\"\\n──────── Accuracy on gold 50×50 ────────\")\n",
    "print(f\"Precision@{K}:   {np.mean(prec):.4f}\")\n",
    "print(f\"Recall@{K}:      {np.mean(rec):.4f}\")\n",
    "print(f\"Top‑{K} accuracy: {np.mean(acc):.4f}\")\n",
    "print(f\"MRR@{K}:          {np.mean(rr):.4f}\")\n",
    "print(f\"NDCG@{K}:         {np.mean(ndcg):.4f}\")"
   ]
  },
  {
   "cell_type": "code",
   "execution_count": null,
   "id": "d5346892-34af-4b9d-84a2-cdf0dbfd9725",
   "metadata": {},
   "outputs": [],
   "source": []
  }
 ],
 "metadata": {
  "kernelspec": {
   "display_name": "Python 3 (ipykernel)",
   "language": "python",
   "name": "python3"
  },
  "language_info": {
   "codemirror_mode": {
    "name": "ipython",
    "version": 3
   },
   "file_extension": ".py",
   "mimetype": "text/x-python",
   "name": "python",
   "nbconvert_exporter": "python",
   "pygments_lexer": "ipython3",
   "version": "3.12.9"
  }
 },
 "nbformat": 4,
 "nbformat_minor": 5
}
