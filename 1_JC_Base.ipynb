{
 "cells": [
  {
   "cell_type": "code",
   "execution_count": null,
   "id": "93a15c62-b8b9-4f3f-89f7-04cdee1c432c",
   "metadata": {},
   "outputs": [],
   "source": [
    "import pandas as pd\n",
    "import os\n",
    "import fitz  # PyMuPDF\n",
    "import pandas as pd\n",
    "import re\n",
    "from collections import defaultdict\n",
    "import math\n",
    "pd.set_option('display.max_colwidth', None)"
   ]
  },
  {
   "cell_type": "code",
   "execution_count": null,
   "id": "c8f891d4-9482-4474-b31f-65dcd0dc6622",
   "metadata": {},
   "outputs": [],
   "source": [
    "def show_common_tokens(resume_name, jd_id, resume_tokens, jd_data):\n",
    "    if resume_name not in resume_tokens:\n",
    "        print(f\"Resume '{resume_name}' not found.\")\n",
    "        return\n",
    "    if jd_id not in jd_data:\n",
    "        print(f\"JD ID '{jd_id}' not found.\")\n",
    "        return\n",
    "    \n",
    "    r_tokens = resume_tokens[resume_name]\n",
    "    jd_tokens = jd_data[jd_id]['tokens']\n",
    "    common = r_tokens.intersection(jd_tokens)\n",
    "    union = r_tokens.union(jd_tokens)\n",
    "    \n",
    "    print(f\"\\n=== Common Tokens between Resume '{resume_name}' and JD ID {jd_id} ===\")\n",
    "    print(f\"=== Resume token length: {len(r_tokens)} and JD token length: {len(jd_tokens)} ===\")\n",
    "    print(f\"=== Intersection tokens length: {len(common)} | Union tokens length: {len(union)} ===\")\n",
    "    print(f\"Job Title: {jd_data[jd_id]['job_title']}\")\n",
    "    print(f\"Jaccard Score: {jaccard_similarity(r_tokens, jd_tokens):.3f}\")\n",
    "    print(\"Common Tokens (sorted):\", sorted(common))\n",
    "    # for word in sorted(common):\n",
    "    #     print(f\"- {word}\")"
   ]
  },
  {
   "cell_type": "code",
   "execution_count": null,
   "id": "c8856095-9a09-4e7a-b923-3d8d17534640",
   "metadata": {},
   "outputs": [],
   "source": [
    "def print_full_jd(jd_data, jd_id):\n",
    "    if jd_id not in jd_data:\n",
    "        print(f\"JD ID {jd_id} not found.\")\n",
    "        return\n",
    "    print(f\"\\n=== JD ID {jd_id} ===\")\n",
    "    print(f\"Job Title: {jd_data[jd_id]['job_title']}\")\n",
    "    print(f\"Description:\\n{jd_data[jd_id]['full_desc']}\")"
   ]
  },
  {
   "cell_type": "code",
   "execution_count": null,
   "id": "f4861ff4-5bbf-4104-8785-bbb3b26b5641",
   "metadata": {},
   "outputs": [],
   "source": [
    "def extract_text_from_pdf(pdf_path):\n",
    "    text = \"\"\n",
    "    try:\n",
    "        with fitz.open(pdf_path) as doc:\n",
    "            for page in doc:\n",
    "                text += page.get_text()\n",
    "    except Exception as e:\n",
    "        print(f\"Error reading {pdf_path}: {e}\")\n",
    "    return text"
   ]
  },
  {
   "cell_type": "code",
   "execution_count": null,
   "id": "d8912b10-ceaf-470c-a1c3-c8a56a9ad3f5",
   "metadata": {},
   "outputs": [],
   "source": [
    "def tokenize(text):\n",
    "    text = text.lower()\n",
    "    tokens = re.findall(r'\\b\\w+\\b', text)\n",
    "    return set(tokens)"
   ]
  },
  {
   "cell_type": "code",
   "execution_count": null,
   "id": "84bad26a-9cd8-4ca4-80b4-ced69b5f1ac6",
   "metadata": {},
   "outputs": [],
   "source": [
    "def jaccard_similarity(set1, set2):\n",
    "    intersection = set1.intersection(set2)\n",
    "    union = set1.union(set2)\n",
    "    return len(intersection) / len(union) if union else 0"
   ]
  },
  {
   "cell_type": "code",
   "execution_count": null,
   "id": "0a37e357-997f-4f48-92e6-3b5c361bf1cd",
   "metadata": {},
   "outputs": [],
   "source": [
    "def process_resumes(folder_path):\n",
    "    resume_data = {}\n",
    "    for fname in os.listdir(folder_path):\n",
    "        if fname.endswith('.pdf'):\n",
    "            full_path = os.path.join(folder_path, fname)\n",
    "            text = extract_text_from_pdf(full_path)\n",
    "            tokens = tokenize(text)\n",
    "            resume_data[fname] = tokens\n",
    "    return resume_data"
   ]
  },
  {
   "cell_type": "code",
   "execution_count": null,
   "id": "bbedde58-5214-4107-ad94-5c295f82c7b9",
   "metadata": {},
   "outputs": [],
   "source": [
    "def process_job_descriptions(csv_path):\n",
    "    df = pd.read_csv(csv_path)\n",
    "    jd_data = {}\n",
    "    for idx, row in df.iterrows():\n",
    "        jd_text = str(row['Job Description'])\n",
    "        tokens = tokenize(jd_text)\n",
    "        jd_data[idx] = {\n",
    "            'job_title': row.get('Job Title', ''),\n",
    "            'tokens': tokens,\n",
    "            'full_desc': jd_text.strip()\n",
    "        }\n",
    "    return jd_data"
   ]
  },
  {
   "cell_type": "code",
   "execution_count": null,
   "id": "f8fc463e-6372-43ea-ac38-4e271af5d6eb",
   "metadata": {},
   "outputs": [],
   "source": [
    "def match_resumes_to_jobs(resume_tokens, jd_data, top_k=10):\n",
    "    results = defaultdict(list)\n",
    "    for resume_name, r_tokens in resume_tokens.items():\n",
    "        scores = []\n",
    "        for jd_id, jd_info in jd_data.items():\n",
    "            score = jaccard_similarity(r_tokens, jd_info['tokens'])\n",
    "            scores.append((jd_id, score, jd_info['job_title']))\n",
    "        top_matches = sorted(scores, key=lambda x: -x[1])[:top_k]\n",
    "        results[resume_name] = top_matches\n",
    "    return results"
   ]
  },
  {
   "cell_type": "code",
   "execution_count": null,
   "id": "aab48fb6-d92c-445b-934c-9975bf509eb7",
   "metadata": {},
   "outputs": [],
   "source": [
    "jd_csv_path = 'job_title_des.csv'\n",
    "jd_data = process_job_descriptions(jd_csv_path)"
   ]
  },
  {
   "cell_type": "code",
   "execution_count": null,
   "id": "72a127d0-9593-4cec-8d9d-5d486d6c6066",
   "metadata": {},
   "outputs": [],
   "source": [
    "categories = ['INFORMATION-TECHNOLOGY']\n",
    "base_resume_dir = './resume_pds/data/data'\n",
    "\n",
    "resume_tokens = {}\n",
    "for category in categories:\n",
    "    folder_path = os.path.join(base_resume_dir, category)\n",
    "    resume_tokens.update(process_resumes(folder_path))"
   ]
  },
  {
   "cell_type": "code",
   "execution_count": null,
   "id": "89374706-2b5d-42ee-a1d7-ff9f9decc59f",
   "metadata": {},
   "outputs": [],
   "source": [
    "results = match_resumes_to_jobs(resume_tokens, jd_data)"
   ]
  },
  {
   "cell_type": "code",
   "execution_count": null,
   "id": "150fd098-562b-4344-ac35-76ce429716d9",
   "metadata": {},
   "outputs": [],
   "source": [
    "ct = 0\n",
    "for resume, matches in results.items():\n",
    "    print(f\"\\nResume: {resume}\")\n",
    "    for jd_id, score, title in matches:\n",
    "        print(f\"  JD ID: {jd_id} | Title: {title[:40]}... | Score: {score:.3f}\")\n",
    "\n",
    "    ct+=1\n",
    "    if(ct > 1):\n",
    "        break"
   ]
  },
  {
   "cell_type": "code",
   "execution_count": null,
   "id": "21ab7cf8-e7a0-41b8-987a-b46eaaef96c3",
   "metadata": {},
   "outputs": [],
   "source": [
    "max_score = 0\n",
    "for resume, matches in results.items():\n",
    "    for jd_id, score, title in matches:\n",
    "        max_score = max(max_score, score)\n",
    "\n",
    "print(max_score)"
   ]
  },
  {
   "cell_type": "code",
   "execution_count": null,
   "id": "19744857-45c5-4219-a144-208ade0c00ff",
   "metadata": {},
   "outputs": [],
   "source": [
    "# After matching resumes and getting resume_tokens and jd_data\n",
    "show_common_tokens(\"25857360.pdf\", 2137, resume_tokens, jd_data)"
   ]
  },
  {
   "cell_type": "code",
   "execution_count": null,
   "id": "02000868-e8b4-4ff9-9c7c-1ef36ebcf83e",
   "metadata": {},
   "outputs": [],
   "source": [
    "# print_full_jd(jd_data, jd_id=2137)"
   ]
  },
  {
   "cell_type": "code",
   "execution_count": null,
   "id": "7215ecaa-73b9-4b1f-bf41-250bb489170d",
   "metadata": {},
   "outputs": [],
   "source": [
    "import matplotlib.pyplot as plt\n",
    "\n",
    "def plot_jaccard_score_distribution(results_jaccard):\n",
    "    \"\"\"Plot histogram of Jaccard similarity scores.\"\"\"\n",
    "    all_scores = [score for matches in results_jaccard.values() for _, score, _ in matches]\n",
    "\n",
    "    plt.figure(figsize=(8, 5))\n",
    "    plt.hist(all_scores, bins=20, color='skyblue', edgecolor='black')\n",
    "    plt.title(\"Jaccard Similarity Score Distribution\")\n",
    "    plt.xlabel(\"Similarity Score\")\n",
    "    plt.ylabel(\"Frequency\")\n",
    "    plt.grid(True)\n",
    "    plt.tight_layout()\n",
    "    plt.show()\n",
    "    plt.savefig('jaccard_base_dist.png')"
   ]
  },
  {
   "cell_type": "code",
   "execution_count": null,
   "id": "909d80a9-92a1-4d47-9ea6-a82217ef8cec",
   "metadata": {},
   "outputs": [],
   "source": [
    "plot_jaccard_score_distribution(results)"
   ]
  },
  {
   "cell_type": "code",
   "execution_count": null,
   "id": "a2d74324-dd16-4d3c-959f-0305761d8ea5",
   "metadata": {},
   "outputs": [],
   "source": [
    "res_df = pd.read_csv('gold_resumes.csv')\n",
    "jd_df  = pd.read_csv('gold_jds.csv')"
   ]
  },
  {
   "cell_type": "code",
   "execution_count": null,
   "id": "5960c3a5-0d1c-4f9b-a134-882be9accc40",
   "metadata": {},
   "outputs": [],
   "source": [
    "gold = {\n",
    "    \"R1\": [\"J1\",\"J2\",\"J3\",\"J4\"],\n",
    "    \"R2\": [\"J5\",\"J6\",\"J7\",\"J8\"],\n",
    "    \"R3\": [\"J9\",\"J10\",\"J11\",\"J12\"],\n",
    "    \"R4\": [\"J13\",\"J14\",\"J15\",\"J16\"],\n",
    "    \"R5\": [\"J17\",\"J18\",\"J19\",\"J20\"],\n",
    "}"
   ]
  },
  {
   "cell_type": "code",
   "execution_count": null,
   "id": "57f33d92-7459-4ee4-97bd-cf4a92f8e8d8",
   "metadata": {},
   "outputs": [],
   "source": [
    "# build token dicts keyed by the raw IDs (“R1”, “R2”, … and “J1”, …)\n",
    "resume_tokens = {\n",
    "    row.Resume_ID: tokenize(row.Resume_Text)\n",
    "    for _, row in res_df.iterrows()\n",
    "}"
   ]
  },
  {
   "cell_type": "code",
   "execution_count": null,
   "id": "909f7fc1-77d4-47e9-af81-5c74319ef8ae",
   "metadata": {},
   "outputs": [],
   "source": [
    "jd_data = {\n",
    "    row.Job_ID: {\n",
    "       'job_title': row.Job_ID,\n",
    "       'tokens': tokenize(row.Job_Text),\n",
    "       'full_desc': row.Job_Text\n",
    "    }\n",
    "    for _, row in jd_df.iterrows()\n",
    "}"
   ]
  },
  {
   "cell_type": "code",
   "execution_count": null,
   "id": "303339ec-4b8e-453e-9ed5-ded2d00a5d47",
   "metadata": {},
   "outputs": [],
   "source": [
    "results = match_resumes_to_jobs(resume_tokens, jd_data, top_k=4)"
   ]
  },
  {
   "cell_type": "code",
   "execution_count": null,
   "id": "da2baafe-46a7-4ad6-ba0d-d80eef624900",
   "metadata": {},
   "outputs": [],
   "source": [
    "# ——— evaluation metrics ———\n",
    "def precision_at_k(recs, gold_set, k):\n",
    "    return len(set(recs[:k]) & gold_set) / k\n",
    "\n",
    "def recall_at_k(recs, gold_set, k):\n",
    "    return len(set(recs[:k]) & gold_set) / len(gold_set)\n",
    "\n",
    "def topk_accuracy(recs, gold_set, k):\n",
    "    return 1.0 if set(recs[:k]) & gold_set else 0.0\n",
    "\n",
    "def reciprocal_rank(recs, gold_set):\n",
    "    for i, jid in enumerate(recs, start=1):\n",
    "        if jid in gold_set:\n",
    "            return 1.0 / i\n",
    "    return 0.0\n",
    "\n",
    "def dcg_at_k(rels, k):\n",
    "    return sum(r / math.log2(i+1) for i, r in enumerate(rels[:k], start=1))\n",
    "\n",
    "def ndcg_at_k(recs, gold_set, k):\n",
    "    rels = [1 if jid in gold_set else 0 for jid in recs[:k]]\n",
    "    dcg  = dcg_at_k(rels, k)\n",
    "    ideal = [1] * min(len(gold_set), k)\n",
    "    idcg = dcg_at_k(ideal, k)\n",
    "    return dcg / idcg if idcg>0 else 0.0\n",
    "\n",
    "def evaluate(results, gold, k=4):\n",
    "    P, R, T, RR, N = [], [], [], [], []\n",
    "    for rid, ranked in results.items():\n",
    "        if rid not in gold:\n",
    "            continue\n",
    "        gold_set = set(gold[rid])\n",
    "        # each entry in ranked is (jid, score, title)\n",
    "        recs = [jid for jid, _, _ in ranked]\n",
    "\n",
    "        P.append( precision_at_k(recs, gold_set, k) )\n",
    "        R.append( recall_at_k(recs, gold_set, k)    )\n",
    "        T.append( topk_accuracy(recs, gold_set, k)  )\n",
    "        RR.append(reciprocal_rank(recs, gold_set)   )\n",
    "        N.append( ndcg_at_k(recs, gold_set, k)      )\n",
    "\n",
    "    return {\n",
    "        f\"Precision@{k}\":   sum(P)/len(P),\n",
    "        f\"Recall@{k}\":      sum(R)/len(R),\n",
    "        f\"Top-{k} Acc.\":    sum(T)/len(T),\n",
    "        \"MRR\":              sum(RR)/len(RR),\n",
    "        f\"NDCG@{k}\":        sum(N)/len(N),\n",
    "    }"
   ]
  },
  {
   "cell_type": "code",
   "execution_count": null,
   "id": "5522813d-fea6-4693-b1f4-6e7e16d48187",
   "metadata": {},
   "outputs": [],
   "source": [
    "metrics = evaluate(results, gold, k=4)\n",
    "for name, val in metrics.items():\n",
    "    print(f\"{name}: {val:.3f}\")"
   ]
  },
  {
   "cell_type": "code",
   "execution_count": null,
   "id": "85c61dfc-b668-433d-b7c8-b74b84350f3b",
   "metadata": {},
   "outputs": [],
   "source": []
  }
 ],
 "metadata": {
  "kernelspec": {
   "display_name": "Python 3 (ipykernel)",
   "language": "python",
   "name": "python3"
  },
  "language_info": {
   "codemirror_mode": {
    "name": "ipython",
    "version": 3
   },
   "file_extension": ".py",
   "mimetype": "text/x-python",
   "name": "python",
   "nbconvert_exporter": "python",
   "pygments_lexer": "ipython3",
   "version": "3.12.9"
  }
 },
 "nbformat": 4,
 "nbformat_minor": 5
}
