{
 "cells": [
  {
   "cell_type": "code",
   "execution_count": 1,
   "id": "e738c421-f5e5-4638-a522-a8f9dc301000",
   "metadata": {},
   "outputs": [
    {
     "name": "stderr",
     "output_type": "stream",
     "text": [
      "/Users/chiragjain/miniconda3/lib/python3.12/site-packages/tqdm/auto.py:21: TqdmWarning: IProgress not found. Please update jupyter and ipywidgets. See https://ipywidgets.readthedocs.io/en/stable/user_install.html\n",
      "  from .autonotebook import tqdm as notebook_tqdm\n"
     ]
    }
   ],
   "source": [
    "import pandas as pd, numpy as np, re, ast, json, os\n",
    "from tqdm.auto import tqdm\n",
    "from gensim import downloader as api\n",
    "from sklearn.feature_extraction.text import TfidfVectorizer\n",
    "from sklearn.metrics.pairwise import cosine_similarity\n",
    "from pathlib import Path\n",
    "\n",
    "res_df = pd.read_csv(\"./gold_samples/resumes_samples.csv\")   \n",
    "jd_df  = pd.read_csv(\"./gold_samples/job_desc_sampled.csv\")  \n",
    "\n",
    "assert len(res_df)==50 and len(jd_df)==50, \"Expecting 50 resumes & 50 JDs\"\n",
    "\n",
    "gold_file = Path(\"gold_res.txt\")\n",
    "row_pat   = re.compile(r\"R(\\d+)\\s*:\\s*\\[(.*)\\]\")\n",
    "jd_pat    = re.compile(r\"JD\\d+\")\n",
    "\n",
    "gold_dict = {}\n",
    "with gold_file.open() as fh:\n",
    "    for raw in fh:\n",
    "        m = row_pat.match(raw.strip())\n",
    "        if not m:\n",
    "            continue\n",
    "        rid      = f\"R{m.group(1)}\"\n",
    "        jd_list  = jd_pat.findall(m.group(2))\n",
    "        gold_dict[rid] = jd_list\n",
    "\n",
    "assert len(gold_dict) == 50, \"Gold file should contain 50 rows (R1…R50)\""
   ]
  },
  {
   "cell_type": "code",
   "execution_count": 2,
   "id": "ef98c3de-bead-406b-a48e-e9ca4f21e324",
   "metadata": {},
   "outputs": [],
   "source": [
    "tok_re = re.compile(r\"[A-Za-z\\d\\-\\+#]+\")\n",
    "\n",
    "def preprocess(text:str) -> str:\n",
    "    return \" \".join(tok_re.findall(text.lower()))\n",
    "\n",
    "res_texts = res_df[\"resume_text\"].apply(preprocess).tolist()\n",
    "jd_texts  = jd_df[\"job_description\"].apply(preprocess).tolist()\n",
    "\n",
    "vectorizer = TfidfVectorizer(token_pattern=r\"[A-Za-z\\d\\-\\+#]+\",\n",
    "                             lowercase=False,      \n",
    "                             min_df=1, max_df=0.9) \n",
    "\n",
    "corpus = res_texts + jd_texts\n",
    "vectorizer.fit(corpus)\n",
    "idf     = vectorizer.idf_         \n",
    "vocab   = vectorizer.vocabulary_  \n",
    "\n",
    "# map idf to token\n",
    "idf_dict = {tok: idf[idx] for tok, idx in vocab.items()}"
   ]
  },
  {
   "cell_type": "code",
   "execution_count": 3,
   "id": "1dcdfb07-7fd3-4a71-85b9-c03bd798d7ca",
   "metadata": {},
   "outputs": [
    {
     "name": "stdout",
     "output_type": "stream",
     "text": [
      "Downloading GloVe 300‑d word vectors … (one‑time ~376 MB)\n",
      "[--------------------------------------------------] 1.4% 23.4/1662.8MB downloaded"
     ]
    },
    {
     "name": "stderr",
     "output_type": "stream",
     "text": [
      "IOPub message rate exceeded.\n",
      "The Jupyter server will temporarily stop sending output\n",
      "to the client in order to avoid crashing it.\n",
      "To change this limit, set the config variable\n",
      "`--ServerApp.iopub_msg_rate_limit`.\n",
      "\n",
      "Current values:\n",
      "ServerApp.iopub_msg_rate_limit=1000.0 (msgs/sec)\n",
      "ServerApp.rate_limit_window=3.0 (secs)\n",
      "\n"
     ]
    },
    {
     "name": "stdout",
     "output_type": "stream",
     "text": [
      "[==------------------------------------------------] 5.7% 95.1/1662.8MB downloaded"
     ]
    },
    {
     "name": "stderr",
     "output_type": "stream",
     "text": [
      "IOPub message rate exceeded.\n",
      "The Jupyter server will temporarily stop sending output\n",
      "to the client in order to avoid crashing it.\n",
      "To change this limit, set the config variable\n",
      "`--ServerApp.iopub_msg_rate_limit`.\n",
      "\n",
      "Current values:\n",
      "ServerApp.iopub_msg_rate_limit=1000.0 (msgs/sec)\n",
      "ServerApp.rate_limit_window=3.0 (secs)\n",
      "\n"
     ]
    },
    {
     "name": "stdout",
     "output_type": "stream",
     "text": [
      "[====----------------------------------------------] 8.7% 144.0/1662.8MB downloaded"
     ]
    },
    {
     "name": "stderr",
     "output_type": "stream",
     "text": [
      "IOPub message rate exceeded.\n",
      "The Jupyter server will temporarily stop sending output\n",
      "to the client in order to avoid crashing it.\n",
      "To change this limit, set the config variable\n",
      "`--ServerApp.iopub_msg_rate_limit`.\n",
      "\n",
      "Current values:\n",
      "ServerApp.iopub_msg_rate_limit=1000.0 (msgs/sec)\n",
      "ServerApp.rate_limit_window=3.0 (secs)\n",
      "\n"
     ]
    },
    {
     "name": "stdout",
     "output_type": "stream",
     "text": [
      "[=====---------------------------------------------] 11.4% 188.9/1662.8MB downloaded"
     ]
    },
    {
     "name": "stderr",
     "output_type": "stream",
     "text": [
      "IOPub message rate exceeded.\n",
      "The Jupyter server will temporarily stop sending output\n",
      "to the client in order to avoid crashing it.\n",
      "To change this limit, set the config variable\n",
      "`--ServerApp.iopub_msg_rate_limit`.\n",
      "\n",
      "Current values:\n",
      "ServerApp.iopub_msg_rate_limit=1000.0 (msgs/sec)\n",
      "ServerApp.rate_limit_window=3.0 (secs)\n",
      "\n"
     ]
    },
    {
     "name": "stdout",
     "output_type": "stream",
     "text": [
      "[=======-------------------------------------------] 14.4% 239.6/1662.8MB downloaded"
     ]
    },
    {
     "name": "stderr",
     "output_type": "stream",
     "text": [
      "IOPub message rate exceeded.\n",
      "The Jupyter server will temporarily stop sending output\n",
      "to the client in order to avoid crashing it.\n",
      "To change this limit, set the config variable\n",
      "`--ServerApp.iopub_msg_rate_limit`.\n",
      "\n",
      "Current values:\n",
      "ServerApp.iopub_msg_rate_limit=1000.0 (msgs/sec)\n",
      "ServerApp.rate_limit_window=3.0 (secs)\n",
      "\n"
     ]
    },
    {
     "name": "stdout",
     "output_type": "stream",
     "text": [
      "[========------------------------------------------] 17.0% 283.5/1662.8MB downloaded"
     ]
    },
    {
     "name": "stderr",
     "output_type": "stream",
     "text": [
      "IOPub message rate exceeded.\n",
      "The Jupyter server will temporarily stop sending output\n",
      "to the client in order to avoid crashing it.\n",
      "To change this limit, set the config variable\n",
      "`--ServerApp.iopub_msg_rate_limit`.\n",
      "\n",
      "Current values:\n",
      "ServerApp.iopub_msg_rate_limit=1000.0 (msgs/sec)\n",
      "ServerApp.rate_limit_window=3.0 (secs)\n",
      "\n"
     ]
    },
    {
     "name": "stdout",
     "output_type": "stream",
     "text": [
      "[=========-----------------------------------------] 18.2% 303.3/1662.8MB downloaded"
     ]
    },
    {
     "name": "stderr",
     "output_type": "stream",
     "text": [
      "IOPub message rate exceeded.\n",
      "The Jupyter server will temporarily stop sending output\n",
      "to the client in order to avoid crashing it.\n",
      "To change this limit, set the config variable\n",
      "`--ServerApp.iopub_msg_rate_limit`.\n",
      "\n",
      "Current values:\n",
      "ServerApp.iopub_msg_rate_limit=1000.0 (msgs/sec)\n",
      "ServerApp.rate_limit_window=3.0 (secs)\n",
      "\n"
     ]
    },
    {
     "name": "stdout",
     "output_type": "stream",
     "text": [
      "[==========----------------------------------------] 20.4% 339.5/1662.8MB downloaded"
     ]
    },
    {
     "name": "stderr",
     "output_type": "stream",
     "text": [
      "IOPub message rate exceeded.\n",
      "The Jupyter server will temporarily stop sending output\n",
      "to the client in order to avoid crashing it.\n",
      "To change this limit, set the config variable\n",
      "`--ServerApp.iopub_msg_rate_limit`.\n",
      "\n",
      "Current values:\n",
      "ServerApp.iopub_msg_rate_limit=1000.0 (msgs/sec)\n",
      "ServerApp.rate_limit_window=3.0 (secs)\n",
      "\n"
     ]
    },
    {
     "name": "stdout",
     "output_type": "stream",
     "text": [
      "[==========----------------------------------------] 21.6% 358.9/1662.8MB downloaded"
     ]
    },
    {
     "name": "stderr",
     "output_type": "stream",
     "text": [
      "IOPub message rate exceeded.\n",
      "The Jupyter server will temporarily stop sending output\n",
      "to the client in order to avoid crashing it.\n",
      "To change this limit, set the config variable\n",
      "`--ServerApp.iopub_msg_rate_limit`.\n",
      "\n",
      "Current values:\n",
      "ServerApp.iopub_msg_rate_limit=1000.0 (msgs/sec)\n",
      "ServerApp.rate_limit_window=3.0 (secs)\n",
      "\n"
     ]
    },
    {
     "name": "stdout",
     "output_type": "stream",
     "text": [
      "[===========---------------------------------------] 22.9% 381.1/1662.8MB downloaded"
     ]
    },
    {
     "name": "stderr",
     "output_type": "stream",
     "text": [
      "IOPub message rate exceeded.\n",
      "The Jupyter server will temporarily stop sending output\n",
      "to the client in order to avoid crashing it.\n",
      "To change this limit, set the config variable\n",
      "`--ServerApp.iopub_msg_rate_limit`.\n",
      "\n",
      "Current values:\n",
      "ServerApp.iopub_msg_rate_limit=1000.0 (msgs/sec)\n",
      "ServerApp.rate_limit_window=3.0 (secs)\n",
      "\n"
     ]
    },
    {
     "name": "stdout",
     "output_type": "stream",
     "text": [
      "[============--------------------------------------] 24.0% 399.9/1662.8MB downloaded"
     ]
    },
    {
     "name": "stderr",
     "output_type": "stream",
     "text": [
      "IOPub message rate exceeded.\n",
      "The Jupyter server will temporarily stop sending output\n",
      "to the client in order to avoid crashing it.\n",
      "To change this limit, set the config variable\n",
      "`--ServerApp.iopub_msg_rate_limit`.\n",
      "\n",
      "Current values:\n",
      "ServerApp.iopub_msg_rate_limit=1000.0 (msgs/sec)\n",
      "ServerApp.rate_limit_window=3.0 (secs)\n",
      "\n"
     ]
    },
    {
     "name": "stdout",
     "output_type": "stream",
     "text": [
      "[============--------------------------------------] 26.0% 431.6/1662.8MB downloaded"
     ]
    },
    {
     "name": "stderr",
     "output_type": "stream",
     "text": [
      "IOPub message rate exceeded.\n",
      "The Jupyter server will temporarily stop sending output\n",
      "to the client in order to avoid crashing it.\n",
      "To change this limit, set the config variable\n",
      "`--ServerApp.iopub_msg_rate_limit`.\n",
      "\n",
      "Current values:\n",
      "ServerApp.iopub_msg_rate_limit=1000.0 (msgs/sec)\n",
      "ServerApp.rate_limit_window=3.0 (secs)\n",
      "\n"
     ]
    },
    {
     "name": "stdout",
     "output_type": "stream",
     "text": [
      "[=============-------------------------------------] 27.1% 450.5/1662.8MB downloaded"
     ]
    },
    {
     "name": "stderr",
     "output_type": "stream",
     "text": [
      "IOPub message rate exceeded.\n",
      "The Jupyter server will temporarily stop sending output\n",
      "to the client in order to avoid crashing it.\n",
      "To change this limit, set the config variable\n",
      "`--ServerApp.iopub_msg_rate_limit`.\n",
      "\n",
      "Current values:\n",
      "ServerApp.iopub_msg_rate_limit=1000.0 (msgs/sec)\n",
      "ServerApp.rate_limit_window=3.0 (secs)\n",
      "\n"
     ]
    },
    {
     "name": "stdout",
     "output_type": "stream",
     "text": [
      "[==============------------------------------------] 29.0% 482.4/1662.8MB downloaded"
     ]
    },
    {
     "name": "stderr",
     "output_type": "stream",
     "text": [
      "IOPub message rate exceeded.\n",
      "The Jupyter server will temporarily stop sending output\n",
      "to the client in order to avoid crashing it.\n",
      "To change this limit, set the config variable\n",
      "`--ServerApp.iopub_msg_rate_limit`.\n",
      "\n",
      "Current values:\n",
      "ServerApp.iopub_msg_rate_limit=1000.0 (msgs/sec)\n",
      "ServerApp.rate_limit_window=3.0 (secs)\n",
      "\n"
     ]
    },
    {
     "name": "stdout",
     "output_type": "stream",
     "text": [
      "[===============-----------------------------------] 30.1% 500.4/1662.8MB downloaded"
     ]
    },
    {
     "name": "stderr",
     "output_type": "stream",
     "text": [
      "IOPub message rate exceeded.\n",
      "The Jupyter server will temporarily stop sending output\n",
      "to the client in order to avoid crashing it.\n",
      "To change this limit, set the config variable\n",
      "`--ServerApp.iopub_msg_rate_limit`.\n",
      "\n",
      "Current values:\n",
      "ServerApp.iopub_msg_rate_limit=1000.0 (msgs/sec)\n",
      "ServerApp.rate_limit_window=3.0 (secs)\n",
      "\n"
     ]
    },
    {
     "name": "stdout",
     "output_type": "stream",
     "text": [
      "[===============-----------------------------------] 31.9% 530.7/1662.8MB downloaded"
     ]
    },
    {
     "name": "stderr",
     "output_type": "stream",
     "text": [
      "IOPub message rate exceeded.\n",
      "The Jupyter server will temporarily stop sending output\n",
      "to the client in order to avoid crashing it.\n",
      "To change this limit, set the config variable\n",
      "`--ServerApp.iopub_msg_rate_limit`.\n",
      "\n",
      "Current values:\n",
      "ServerApp.iopub_msg_rate_limit=1000.0 (msgs/sec)\n",
      "ServerApp.rate_limit_window=3.0 (secs)\n",
      "\n"
     ]
    },
    {
     "name": "stdout",
     "output_type": "stream",
     "text": [
      "[================----------------------------------] 33.3% 553.9/1662.8MB downloaded"
     ]
    },
    {
     "name": "stderr",
     "output_type": "stream",
     "text": [
      "IOPub message rate exceeded.\n",
      "The Jupyter server will temporarily stop sending output\n",
      "to the client in order to avoid crashing it.\n",
      "To change this limit, set the config variable\n",
      "`--ServerApp.iopub_msg_rate_limit`.\n",
      "\n",
      "Current values:\n",
      "ServerApp.iopub_msg_rate_limit=1000.0 (msgs/sec)\n",
      "ServerApp.rate_limit_window=3.0 (secs)\n",
      "\n"
     ]
    },
    {
     "name": "stdout",
     "output_type": "stream",
     "text": [
      "[=================---------------------------------] 35.9% 597.1/1662.8MB downloaded"
     ]
    },
    {
     "name": "stderr",
     "output_type": "stream",
     "text": [
      "IOPub message rate exceeded.\n",
      "The Jupyter server will temporarily stop sending output\n",
      "to the client in order to avoid crashing it.\n",
      "To change this limit, set the config variable\n",
      "`--ServerApp.iopub_msg_rate_limit`.\n",
      "\n",
      "Current values:\n",
      "ServerApp.iopub_msg_rate_limit=1000.0 (msgs/sec)\n",
      "ServerApp.rate_limit_window=3.0 (secs)\n",
      "\n"
     ]
    },
    {
     "name": "stdout",
     "output_type": "stream",
     "text": [
      "[==================--------------------------------] 37.5% 624.0/1662.8MB downloaded"
     ]
    },
    {
     "name": "stderr",
     "output_type": "stream",
     "text": [
      "IOPub message rate exceeded.\n",
      "The Jupyter server will temporarily stop sending output\n",
      "to the client in order to avoid crashing it.\n",
      "To change this limit, set the config variable\n",
      "`--ServerApp.iopub_msg_rate_limit`.\n",
      "\n",
      "Current values:\n",
      "ServerApp.iopub_msg_rate_limit=1000.0 (msgs/sec)\n",
      "ServerApp.rate_limit_window=3.0 (secs)\n",
      "\n"
     ]
    },
    {
     "name": "stdout",
     "output_type": "stream",
     "text": [
      "[===================-------------------------------] 39.9% 663.2/1662.8MB downloaded"
     ]
    },
    {
     "name": "stderr",
     "output_type": "stream",
     "text": [
      "IOPub message rate exceeded.\n",
      "The Jupyter server will temporarily stop sending output\n",
      "to the client in order to avoid crashing it.\n",
      "To change this limit, set the config variable\n",
      "`--ServerApp.iopub_msg_rate_limit`.\n",
      "\n",
      "Current values:\n",
      "ServerApp.iopub_msg_rate_limit=1000.0 (msgs/sec)\n",
      "ServerApp.rate_limit_window=3.0 (secs)\n",
      "\n"
     ]
    },
    {
     "name": "stdout",
     "output_type": "stream",
     "text": [
      "[====================------------------------------] 41.6% 691.7/1662.8MB downloaded"
     ]
    },
    {
     "name": "stderr",
     "output_type": "stream",
     "text": [
      "IOPub message rate exceeded.\n",
      "The Jupyter server will temporarily stop sending output\n",
      "to the client in order to avoid crashing it.\n",
      "To change this limit, set the config variable\n",
      "`--ServerApp.iopub_msg_rate_limit`.\n",
      "\n",
      "Current values:\n",
      "ServerApp.iopub_msg_rate_limit=1000.0 (msgs/sec)\n",
      "ServerApp.rate_limit_window=3.0 (secs)\n",
      "\n"
     ]
    },
    {
     "name": "stdout",
     "output_type": "stream",
     "text": [
      "[=====================-----------------------------] 43.7% 726.2/1662.8MB downloaded"
     ]
    },
    {
     "name": "stderr",
     "output_type": "stream",
     "text": [
      "IOPub message rate exceeded.\n",
      "The Jupyter server will temporarily stop sending output\n",
      "to the client in order to avoid crashing it.\n",
      "To change this limit, set the config variable\n",
      "`--ServerApp.iopub_msg_rate_limit`.\n",
      "\n",
      "Current values:\n",
      "ServerApp.iopub_msg_rate_limit=1000.0 (msgs/sec)\n",
      "ServerApp.rate_limit_window=3.0 (secs)\n",
      "\n"
     ]
    },
    {
     "name": "stdout",
     "output_type": "stream",
     "text": [
      "[======================----------------------------] 45.6% 758.6/1662.8MB downloaded"
     ]
    },
    {
     "name": "stderr",
     "output_type": "stream",
     "text": [
      "IOPub message rate exceeded.\n",
      "The Jupyter server will temporarily stop sending output\n",
      "to the client in order to avoid crashing it.\n",
      "To change this limit, set the config variable\n",
      "`--ServerApp.iopub_msg_rate_limit`.\n",
      "\n",
      "Current values:\n",
      "ServerApp.iopub_msg_rate_limit=1000.0 (msgs/sec)\n",
      "ServerApp.rate_limit_window=3.0 (secs)\n",
      "\n"
     ]
    },
    {
     "name": "stdout",
     "output_type": "stream",
     "text": [
      "[========================--------------------------] 48.0% 798.7/1662.8MB downloaded"
     ]
    },
    {
     "name": "stderr",
     "output_type": "stream",
     "text": [
      "IOPub message rate exceeded.\n",
      "The Jupyter server will temporarily stop sending output\n",
      "to the client in order to avoid crashing it.\n",
      "To change this limit, set the config variable\n",
      "`--ServerApp.iopub_msg_rate_limit`.\n",
      "\n",
      "Current values:\n",
      "ServerApp.iopub_msg_rate_limit=1000.0 (msgs/sec)\n",
      "ServerApp.rate_limit_window=3.0 (secs)\n",
      "\n"
     ]
    },
    {
     "name": "stdout",
     "output_type": "stream",
     "text": [
      "[========================--------------------------] 50.0% 831.3/1662.8MB downloaded"
     ]
    },
    {
     "name": "stderr",
     "output_type": "stream",
     "text": [
      "IOPub message rate exceeded.\n",
      "The Jupyter server will temporarily stop sending output\n",
      "to the client in order to avoid crashing it.\n",
      "To change this limit, set the config variable\n",
      "`--ServerApp.iopub_msg_rate_limit`.\n",
      "\n",
      "Current values:\n",
      "ServerApp.iopub_msg_rate_limit=1000.0 (msgs/sec)\n",
      "ServerApp.rate_limit_window=3.0 (secs)\n",
      "\n"
     ]
    },
    {
     "name": "stdout",
     "output_type": "stream",
     "text": [
      "[==========================------------------------] 52.2% 868.0/1662.8MB downloaded"
     ]
    },
    {
     "name": "stderr",
     "output_type": "stream",
     "text": [
      "IOPub message rate exceeded.\n",
      "The Jupyter server will temporarily stop sending output\n",
      "to the client in order to avoid crashing it.\n",
      "To change this limit, set the config variable\n",
      "`--ServerApp.iopub_msg_rate_limit`.\n",
      "\n",
      "Current values:\n",
      "ServerApp.iopub_msg_rate_limit=1000.0 (msgs/sec)\n",
      "ServerApp.rate_limit_window=3.0 (secs)\n",
      "\n"
     ]
    },
    {
     "name": "stdout",
     "output_type": "stream",
     "text": [
      "[===========================-----------------------] 54.1% 899.5/1662.8MB downloaded"
     ]
    },
    {
     "name": "stderr",
     "output_type": "stream",
     "text": [
      "IOPub message rate exceeded.\n",
      "The Jupyter server will temporarily stop sending output\n",
      "to the client in order to avoid crashing it.\n",
      "To change this limit, set the config variable\n",
      "`--ServerApp.iopub_msg_rate_limit`.\n",
      "\n",
      "Current values:\n",
      "ServerApp.iopub_msg_rate_limit=1000.0 (msgs/sec)\n",
      "ServerApp.rate_limit_window=3.0 (secs)\n",
      "\n"
     ]
    },
    {
     "name": "stdout",
     "output_type": "stream",
     "text": [
      "[===========================-----------------------] 55.7% 926.6/1662.8MB downloaded"
     ]
    },
    {
     "name": "stderr",
     "output_type": "stream",
     "text": [
      "IOPub message rate exceeded.\n",
      "The Jupyter server will temporarily stop sending output\n",
      "to the client in order to avoid crashing it.\n",
      "To change this limit, set the config variable\n",
      "`--ServerApp.iopub_msg_rate_limit`.\n",
      "\n",
      "Current values:\n",
      "ServerApp.iopub_msg_rate_limit=1000.0 (msgs/sec)\n",
      "ServerApp.rate_limit_window=3.0 (secs)\n",
      "\n"
     ]
    },
    {
     "name": "stdout",
     "output_type": "stream",
     "text": [
      "[============================----------------------] 57.0% 947.8/1662.8MB downloaded"
     ]
    },
    {
     "name": "stderr",
     "output_type": "stream",
     "text": [
      "IOPub message rate exceeded.\n",
      "The Jupyter server will temporarily stop sending output\n",
      "to the client in order to avoid crashing it.\n",
      "To change this limit, set the config variable\n",
      "`--ServerApp.iopub_msg_rate_limit`.\n",
      "\n",
      "Current values:\n",
      "ServerApp.iopub_msg_rate_limit=1000.0 (msgs/sec)\n",
      "ServerApp.rate_limit_window=3.0 (secs)\n",
      "\n"
     ]
    },
    {
     "name": "stdout",
     "output_type": "stream",
     "text": [
      "[=============================---------------------] 58.4% 970.6/1662.8MB downloaded"
     ]
    },
    {
     "name": "stderr",
     "output_type": "stream",
     "text": [
      "IOPub message rate exceeded.\n",
      "The Jupyter server will temporarily stop sending output\n",
      "to the client in order to avoid crashing it.\n",
      "To change this limit, set the config variable\n",
      "`--ServerApp.iopub_msg_rate_limit`.\n",
      "\n",
      "Current values:\n",
      "ServerApp.iopub_msg_rate_limit=1000.0 (msgs/sec)\n",
      "ServerApp.rate_limit_window=3.0 (secs)\n",
      "\n"
     ]
    },
    {
     "name": "stdout",
     "output_type": "stream",
     "text": [
      "[=============================---------------------] 59.3% 986.7/1662.8MB downloaded"
     ]
    },
    {
     "name": "stderr",
     "output_type": "stream",
     "text": [
      "IOPub message rate exceeded.\n",
      "The Jupyter server will temporarily stop sending output\n",
      "to the client in order to avoid crashing it.\n",
      "To change this limit, set the config variable\n",
      "`--ServerApp.iopub_msg_rate_limit`.\n",
      "\n",
      "Current values:\n",
      "ServerApp.iopub_msg_rate_limit=1000.0 (msgs/sec)\n",
      "ServerApp.rate_limit_window=3.0 (secs)\n",
      "\n"
     ]
    },
    {
     "name": "stdout",
     "output_type": "stream",
     "text": [
      "[==============================--------------------] 61.2% 1018.4/1662.8MB downloaded"
     ]
    },
    {
     "name": "stderr",
     "output_type": "stream",
     "text": [
      "IOPub message rate exceeded.\n",
      "The Jupyter server will temporarily stop sending output\n",
      "to the client in order to avoid crashing it.\n",
      "To change this limit, set the config variable\n",
      "`--ServerApp.iopub_msg_rate_limit`.\n",
      "\n",
      "Current values:\n",
      "ServerApp.iopub_msg_rate_limit=1000.0 (msgs/sec)\n",
      "ServerApp.rate_limit_window=3.0 (secs)\n",
      "\n"
     ]
    },
    {
     "name": "stdout",
     "output_type": "stream",
     "text": [
      "[===============================-------------------] 62.8% 1044.9/1662.8MB downloaded"
     ]
    },
    {
     "name": "stderr",
     "output_type": "stream",
     "text": [
      "IOPub message rate exceeded.\n",
      "The Jupyter server will temporarily stop sending output\n",
      "to the client in order to avoid crashing it.\n",
      "To change this limit, set the config variable\n",
      "`--ServerApp.iopub_msg_rate_limit`.\n",
      "\n",
      "Current values:\n",
      "ServerApp.iopub_msg_rate_limit=1000.0 (msgs/sec)\n",
      "ServerApp.rate_limit_window=3.0 (secs)\n",
      "\n"
     ]
    },
    {
     "name": "stdout",
     "output_type": "stream",
     "text": [
      "[================================------------------] 64.1% 1065.3/1662.8MB downloaded"
     ]
    },
    {
     "name": "stderr",
     "output_type": "stream",
     "text": [
      "IOPub message rate exceeded.\n",
      "The Jupyter server will temporarily stop sending output\n",
      "to the client in order to avoid crashing it.\n",
      "To change this limit, set the config variable\n",
      "`--ServerApp.iopub_msg_rate_limit`.\n",
      "\n",
      "Current values:\n",
      "ServerApp.iopub_msg_rate_limit=1000.0 (msgs/sec)\n",
      "ServerApp.rate_limit_window=3.0 (secs)\n",
      "\n"
     ]
    },
    {
     "name": "stdout",
     "output_type": "stream",
     "text": [
      "[=================================-----------------] 66.1% 1099.0/1662.8MB downloaded"
     ]
    },
    {
     "name": "stderr",
     "output_type": "stream",
     "text": [
      "IOPub message rate exceeded.\n",
      "The Jupyter server will temporarily stop sending output\n",
      "to the client in order to avoid crashing it.\n",
      "To change this limit, set the config variable\n",
      "`--ServerApp.iopub_msg_rate_limit`.\n",
      "\n",
      "Current values:\n",
      "ServerApp.iopub_msg_rate_limit=1000.0 (msgs/sec)\n",
      "ServerApp.rate_limit_window=3.0 (secs)\n",
      "\n"
     ]
    },
    {
     "name": "stdout",
     "output_type": "stream",
     "text": [
      "[=================================-----------------] 67.8% 1126.7/1662.8MB downloaded"
     ]
    },
    {
     "name": "stderr",
     "output_type": "stream",
     "text": [
      "IOPub message rate exceeded.\n",
      "The Jupyter server will temporarily stop sending output\n",
      "to the client in order to avoid crashing it.\n",
      "To change this limit, set the config variable\n",
      "`--ServerApp.iopub_msg_rate_limit`.\n",
      "\n",
      "Current values:\n",
      "ServerApp.iopub_msg_rate_limit=1000.0 (msgs/sec)\n",
      "ServerApp.rate_limit_window=3.0 (secs)\n",
      "\n"
     ]
    },
    {
     "name": "stdout",
     "output_type": "stream",
     "text": [
      "[==================================----------------] 68.6% 1140.5/1662.8MB downloaded"
     ]
    },
    {
     "name": "stderr",
     "output_type": "stream",
     "text": [
      "IOPub message rate exceeded.\n",
      "The Jupyter server will temporarily stop sending output\n",
      "to the client in order to avoid crashing it.\n",
      "To change this limit, set the config variable\n",
      "`--ServerApp.iopub_msg_rate_limit`.\n",
      "\n",
      "Current values:\n",
      "ServerApp.iopub_msg_rate_limit=1000.0 (msgs/sec)\n",
      "ServerApp.rate_limit_window=3.0 (secs)\n",
      "\n"
     ]
    },
    {
     "name": "stdout",
     "output_type": "stream",
     "text": [
      "[===================================---------------] 71.0% 1179.8/1662.8MB downloaded"
     ]
    },
    {
     "name": "stderr",
     "output_type": "stream",
     "text": [
      "IOPub message rate exceeded.\n",
      "The Jupyter server will temporarily stop sending output\n",
      "to the client in order to avoid crashing it.\n",
      "To change this limit, set the config variable\n",
      "`--ServerApp.iopub_msg_rate_limit`.\n",
      "\n",
      "Current values:\n",
      "ServerApp.iopub_msg_rate_limit=1000.0 (msgs/sec)\n",
      "ServerApp.rate_limit_window=3.0 (secs)\n",
      "\n"
     ]
    },
    {
     "name": "stdout",
     "output_type": "stream",
     "text": [
      "[====================================--------------] 72.2% 1200.6/1662.8MB downloaded"
     ]
    },
    {
     "name": "stderr",
     "output_type": "stream",
     "text": [
      "IOPub message rate exceeded.\n",
      "The Jupyter server will temporarily stop sending output\n",
      "to the client in order to avoid crashing it.\n",
      "To change this limit, set the config variable\n",
      "`--ServerApp.iopub_msg_rate_limit`.\n",
      "\n",
      "Current values:\n",
      "ServerApp.iopub_msg_rate_limit=1000.0 (msgs/sec)\n",
      "ServerApp.rate_limit_window=3.0 (secs)\n",
      "\n"
     ]
    },
    {
     "name": "stdout",
     "output_type": "stream",
     "text": [
      "[=====================================-------------] 75.0% 1246.5/1662.8MB downloaded"
     ]
    },
    {
     "name": "stderr",
     "output_type": "stream",
     "text": [
      "IOPub message rate exceeded.\n",
      "The Jupyter server will temporarily stop sending output\n",
      "to the client in order to avoid crashing it.\n",
      "To change this limit, set the config variable\n",
      "`--ServerApp.iopub_msg_rate_limit`.\n",
      "\n",
      "Current values:\n",
      "ServerApp.iopub_msg_rate_limit=1000.0 (msgs/sec)\n",
      "ServerApp.rate_limit_window=3.0 (secs)\n",
      "\n"
     ]
    },
    {
     "name": "stdout",
     "output_type": "stream",
     "text": [
      "[======================================------------] 76.6% 1272.9/1662.8MB downloaded"
     ]
    },
    {
     "name": "stderr",
     "output_type": "stream",
     "text": [
      "IOPub message rate exceeded.\n",
      "The Jupyter server will temporarily stop sending output\n",
      "to the client in order to avoid crashing it.\n",
      "To change this limit, set the config variable\n",
      "`--ServerApp.iopub_msg_rate_limit`.\n",
      "\n",
      "Current values:\n",
      "ServerApp.iopub_msg_rate_limit=1000.0 (msgs/sec)\n",
      "ServerApp.rate_limit_window=3.0 (secs)\n",
      "\n"
     ]
    },
    {
     "name": "stdout",
     "output_type": "stream",
     "text": [
      "[=======================================-----------] 79.6% 1322.8/1662.8MB downloaded"
     ]
    },
    {
     "name": "stderr",
     "output_type": "stream",
     "text": [
      "IOPub message rate exceeded.\n",
      "The Jupyter server will temporarily stop sending output\n",
      "to the client in order to avoid crashing it.\n",
      "To change this limit, set the config variable\n",
      "`--ServerApp.iopub_msg_rate_limit`.\n",
      "\n",
      "Current values:\n",
      "ServerApp.iopub_msg_rate_limit=1000.0 (msgs/sec)\n",
      "ServerApp.rate_limit_window=3.0 (secs)\n",
      "\n"
     ]
    },
    {
     "name": "stdout",
     "output_type": "stream",
     "text": [
      "[========================================----------] 81.2% 1349.7/1662.8MB downloaded"
     ]
    },
    {
     "name": "stderr",
     "output_type": "stream",
     "text": [
      "IOPub message rate exceeded.\n",
      "The Jupyter server will temporarily stop sending output\n",
      "to the client in order to avoid crashing it.\n",
      "To change this limit, set the config variable\n",
      "`--ServerApp.iopub_msg_rate_limit`.\n",
      "\n",
      "Current values:\n",
      "ServerApp.iopub_msg_rate_limit=1000.0 (msgs/sec)\n",
      "ServerApp.rate_limit_window=3.0 (secs)\n",
      "\n"
     ]
    },
    {
     "name": "stdout",
     "output_type": "stream",
     "text": [
      "[=========================================---------] 83.8% 1393.0/1662.8MB downloaded"
     ]
    },
    {
     "name": "stderr",
     "output_type": "stream",
     "text": [
      "IOPub message rate exceeded.\n",
      "The Jupyter server will temporarily stop sending output\n",
      "to the client in order to avoid crashing it.\n",
      "To change this limit, set the config variable\n",
      "`--ServerApp.iopub_msg_rate_limit`.\n",
      "\n",
      "Current values:\n",
      "ServerApp.iopub_msg_rate_limit=1000.0 (msgs/sec)\n",
      "ServerApp.rate_limit_window=3.0 (secs)\n",
      "\n"
     ]
    },
    {
     "name": "stdout",
     "output_type": "stream",
     "text": [
      "[==========================================--------] 85.4% 1419.8/1662.8MB downloaded"
     ]
    },
    {
     "name": "stderr",
     "output_type": "stream",
     "text": [
      "IOPub message rate exceeded.\n",
      "The Jupyter server will temporarily stop sending output\n",
      "to the client in order to avoid crashing it.\n",
      "To change this limit, set the config variable\n",
      "`--ServerApp.iopub_msg_rate_limit`.\n",
      "\n",
      "Current values:\n",
      "ServerApp.iopub_msg_rate_limit=1000.0 (msgs/sec)\n",
      "ServerApp.rate_limit_window=3.0 (secs)\n",
      "\n"
     ]
    },
    {
     "name": "stdout",
     "output_type": "stream",
     "text": [
      "[============================================------] 88.2% 1467.3/1662.8MB downloaded"
     ]
    },
    {
     "name": "stderr",
     "output_type": "stream",
     "text": [
      "IOPub message rate exceeded.\n",
      "The Jupyter server will temporarily stop sending output\n",
      "to the client in order to avoid crashing it.\n",
      "To change this limit, set the config variable\n",
      "`--ServerApp.iopub_msg_rate_limit`.\n",
      "\n",
      "Current values:\n",
      "ServerApp.iopub_msg_rate_limit=1000.0 (msgs/sec)\n",
      "ServerApp.rate_limit_window=3.0 (secs)\n",
      "\n"
     ]
    },
    {
     "name": "stdout",
     "output_type": "stream",
     "text": [
      "[============================================------] 89.8% 1493.2/1662.8MB downloaded"
     ]
    },
    {
     "name": "stderr",
     "output_type": "stream",
     "text": [
      "IOPub message rate exceeded.\n",
      "The Jupyter server will temporarily stop sending output\n",
      "to the client in order to avoid crashing it.\n",
      "To change this limit, set the config variable\n",
      "`--ServerApp.iopub_msg_rate_limit`.\n",
      "\n",
      "Current values:\n",
      "ServerApp.iopub_msg_rate_limit=1000.0 (msgs/sec)\n",
      "ServerApp.rate_limit_window=3.0 (secs)\n",
      "\n"
     ]
    },
    {
     "name": "stdout",
     "output_type": "stream",
     "text": [
      "[==============================================----] 92.7% 1540.7/1662.8MB downloaded"
     ]
    },
    {
     "name": "stderr",
     "output_type": "stream",
     "text": [
      "IOPub message rate exceeded.\n",
      "The Jupyter server will temporarily stop sending output\n",
      "to the client in order to avoid crashing it.\n",
      "To change this limit, set the config variable\n",
      "`--ServerApp.iopub_msg_rate_limit`.\n",
      "\n",
      "Current values:\n",
      "ServerApp.iopub_msg_rate_limit=1000.0 (msgs/sec)\n",
      "ServerApp.rate_limit_window=3.0 (secs)\n",
      "\n"
     ]
    },
    {
     "name": "stdout",
     "output_type": "stream",
     "text": [
      "[==============================================----] 93.9% 1562.0/1662.8MB downloaded"
     ]
    },
    {
     "name": "stderr",
     "output_type": "stream",
     "text": [
      "IOPub message rate exceeded.\n",
      "The Jupyter server will temporarily stop sending output\n",
      "to the client in order to avoid crashing it.\n",
      "To change this limit, set the config variable\n",
      "`--ServerApp.iopub_msg_rate_limit`.\n",
      "\n",
      "Current values:\n",
      "ServerApp.iopub_msg_rate_limit=1000.0 (msgs/sec)\n",
      "ServerApp.rate_limit_window=3.0 (secs)\n",
      "\n"
     ]
    },
    {
     "name": "stdout",
     "output_type": "stream",
     "text": [
      "[================================================--] 96.5% 1604.2/1662.8MB downloaded"
     ]
    },
    {
     "name": "stderr",
     "output_type": "stream",
     "text": [
      "IOPub message rate exceeded.\n",
      "The Jupyter server will temporarily stop sending output\n",
      "to the client in order to avoid crashing it.\n",
      "To change this limit, set the config variable\n",
      "`--ServerApp.iopub_msg_rate_limit`.\n",
      "\n",
      "Current values:\n",
      "ServerApp.iopub_msg_rate_limit=1000.0 (msgs/sec)\n",
      "ServerApp.rate_limit_window=3.0 (secs)\n",
      "\n"
     ]
    },
    {
     "name": "stdout",
     "output_type": "stream",
     "text": [
      "[================================================--] 97.8% 1626.4/1662.8MB downloaded"
     ]
    },
    {
     "name": "stderr",
     "output_type": "stream",
     "text": [
      "IOPub message rate exceeded.\n",
      "The Jupyter server will temporarily stop sending output\n",
      "to the client in order to avoid crashing it.\n",
      "To change this limit, set the config variable\n",
      "`--ServerApp.iopub_msg_rate_limit`.\n",
      "\n",
      "Current values:\n",
      "ServerApp.iopub_msg_rate_limit=1000.0 (msgs/sec)\n",
      "ServerApp.rate_limit_window=3.0 (secs)\n",
      "\n"
     ]
    },
    {
     "name": "stdout",
     "output_type": "stream",
     "text": [
      "[==================================================] 100.0% 1662.8/1662.8MB downloaded\n"
     ]
    }
   ],
   "source": [
    "print(\"Downloading GloVe 300‑d word vectors … (one‑time ~376 MB)\")\n",
    "wv = api.load(\"word2vec-google-news-300\")  \n",
    "dim = wv.vector_size"
   ]
  },
  {
   "cell_type": "code",
   "execution_count": 4,
   "id": "750117b0-b652-4937-b3f4-2a1599c8f60d",
   "metadata": {},
   "outputs": [
    {
     "name": "stdout",
     "output_type": "stream",
     "text": [
      "Building document vectors …\n"
     ]
    },
    {
     "name": "stderr",
     "output_type": "stream",
     "text": [
      "Resumes : 100%|█████████████████████████████████| 50/50 [00:00<00:00, 54.85it/s]\n",
      "Job Descs: 100%|███████████████████████████████| 50/50 [00:00<00:00, 158.08it/s]\n"
     ]
    }
   ],
   "source": [
    "def doc_vector(text:str) -> np.ndarray:\n",
    "    tokens = text.split()\n",
    "    if not tokens:\n",
    "        return np.zeros(dim)\n",
    "    vecs, weights = [], []\n",
    "    for tok in tokens:\n",
    "        if tok in wv:\n",
    "            vecs.append(wv[tok])\n",
    "            weights.append(idf_dict.get(tok, np.median(idf)))\n",
    "    if not vecs:\n",
    "        return np.zeros(dim)\n",
    "    vecs = np.vstack(vecs)\n",
    "    weights = np.array(weights)[:, None]       # shape (n,1)\n",
    "    weighted = (vecs * weights).sum(axis=0) / weights.sum()\n",
    "    return weighted\n",
    "\n",
    "print(\"Building document vectors …\")\n",
    "res_emb = np.vstack([doc_vector(txt) for txt in tqdm(res_texts, desc=\"Resumes \")])\n",
    "jd_emb  = np.vstack([doc_vector(txt) for txt in tqdm(jd_texts,  desc=\"Job Descs\")])\n",
    "\n",
    "# L2‑normalise for cosine sim\n",
    "res_emb = res_emb / np.linalg.norm(res_emb, axis=1, keepdims=True)\n",
    "jd_emb  = jd_emb  / np.linalg.norm(jd_emb,  axis=1, keepdims=True)"
   ]
  },
  {
   "cell_type": "code",
   "execution_count": 5,
   "id": "dcf8aeca-7ef3-42e1-9caf-3161698e0835",
   "metadata": {},
   "outputs": [],
   "source": [
    "sim_matrix = cosine_similarity(res_emb, jd_emb)\n",
    "\n",
    "topk = 10\n",
    "retrieved = {}         \n",
    "for i, sim_row in enumerate(sim_matrix):\n",
    "    top_idx = np.argsort(sim_row)[-topk:][::-1]            # best→worst\n",
    "    top_jds = jd_df.iloc[top_idx][\"jd_id\"].tolist()\n",
    "    retrieved[f\"R{i+1}\"] = top_jds"
   ]
  },
  {
   "cell_type": "code",
   "execution_count": 6,
   "id": "269999aa-4176-4515-8043-518efc3eb2e8",
   "metadata": {},
   "outputs": [],
   "source": [
    "def precision_at_k(pred, gold, k=10):\n",
    "    return len(set(pred[:k]) & set(gold)) / k\n",
    "\n",
    "def recall_at_k(pred, gold, k=10):\n",
    "    return len(set(pred[:k]) & set(gold)) / len(gold)\n",
    "\n",
    "def mrr_at_k(pred, gold, k=10):\n",
    "    for rank, jd in enumerate(pred[:k], 1):\n",
    "        if jd in gold:\n",
    "            return 1.0 / rank\n",
    "    return 0.0\n",
    "\n",
    "def ndcg_at_k(pred, gold, k=10):\n",
    "    dcg = 0.0\n",
    "    for rank, jd in enumerate(pred[:k], 1):\n",
    "        if jd in gold:\n",
    "            dcg += 1.0 / np.log2(rank + 1)\n",
    "    idcg = sum(1.0 / np.log2(r + 1) for r in range(1, min(len(gold), k) + 1))\n",
    "    return dcg / idcg if idcg else 0.0\n",
    "\n",
    "def topk_accuracy(pred, gold, k=10):\n",
    "    return int(bool(set(pred[:k]) & set(gold)))"
   ]
  },
  {
   "cell_type": "code",
   "execution_count": 7,
   "id": "3ab8da94-ff87-4528-89a6-86dbe28f6ed2",
   "metadata": {},
   "outputs": [
    {
     "name": "stdout",
     "output_type": "stream",
     "text": [
      "\n",
      "===  Retrieval quality (average over 50 resumes)  ===\n",
      "         Metric  Value\n",
      "   Precision@10 0.3200\n",
      "      Recall@10 0.3200\n",
      "Top‑10 accuracy 1.0000\n",
      "         MRR@10 0.7657\n",
      "        NDCG@10 0.3709\n"
     ]
    }
   ],
   "source": [
    "P,R,ACC,MRR,NDCG = [],[],[],[],[]\n",
    "for rid,preds in retrieved.items():\n",
    "    gold = gold_dict[rid]\n",
    "    P.append( precision_at_k(preds,gold) )\n",
    "    R.append( recall_at_k(preds,gold) )\n",
    "    ACC.append( topk_accuracy(preds,gold) )\n",
    "    MRR.append( mrr_at_k(preds,gold) )\n",
    "    NDCG.append( ndcg_at_k(preds,gold) )\n",
    "\n",
    "metrics = pd.DataFrame({\n",
    "    \"Metric\": [\"Precision@10\",\"Recall@10\",\"Top‑10 accuracy\",\"MRR@10\",\"NDCG@10\"],\n",
    "    \"Value\" : [np.mean(P), np.mean(R), np.mean(ACC), np.mean(MRR), np.mean(NDCG)]\n",
    "})\n",
    "\n",
    "print(\"\\n===  Retrieval quality (average over 50 resumes)  ===\")\n",
    "print(metrics.to_string(index=False, float_format=lambda x:f\"{x:0.4f}\"))"
   ]
  },
  {
   "cell_type": "code",
   "execution_count": null,
   "id": "bf955ab4-5497-4330-89e4-b0dbe818694e",
   "metadata": {},
   "outputs": [],
   "source": [
    "# ===  Retrieval quality (average over 50 resumes)  ===\n",
    "#          Metric  Value\n",
    "#    Precision@10 0.2840\n",
    "#       Recall@10 0.2840\n",
    "# Top‑10 accuracy 0.9400\n",
    "#          MRR@10 0.5642\n",
    "#         NDCG@10 0.3018"
   ]
  },
  {
   "cell_type": "code",
   "execution_count": 10,
   "id": "412c860e-bd83-4a8f-b568-4ca6482bbeb0",
   "metadata": {},
   "outputs": [
    {
     "name": "stdout",
     "output_type": "stream",
     "text": [
      "\n",
      "R1 → ['JD38', 'JD4', 'JD7', 'JD18', 'JD6', 'JD31', 'JD8', 'JD29', 'JD36', 'JD5']\n",
      "\n",
      "R2 → ['JD1', 'JD5', 'JD48', 'JD49', 'JD46', 'JD10', 'JD50', 'JD4', 'JD7', 'JD38']\n",
      "\n",
      "R3 → ['JD1', 'JD5', 'JD49', 'JD48', 'JD46', 'JD50', 'JD4', 'JD10', 'JD7', 'JD38']\n",
      "\n",
      "R4 → ['JD1', 'JD5', 'JD48', 'JD49', 'JD46', 'JD50', 'JD10', 'JD4', 'JD7', 'JD38']\n",
      "\n",
      "R5 → ['JD5', 'JD1', 'JD4', 'JD49', 'JD7', 'JD46', 'JD48', 'JD50', 'JD38', 'JD10']\n",
      "\n",
      "R6 → ['JD7', 'JD38', 'JD4', 'JD5', 'JD31', 'JD50', 'JD8', 'JD36', 'JD18', 'JD49']\n",
      "\n",
      "R7 → ['JD7', 'JD38', 'JD24', 'JD4', 'JD31', 'JD49', 'JD8', 'JD11', 'JD6', 'JD46']\n",
      "\n",
      "R8 → ['JD7', 'JD38', 'JD4', 'JD11', 'JD31', 'JD20', 'JD49', 'JD13', 'JD24', 'JD14']\n",
      "\n",
      "R9 → ['JD6', 'JD38', 'JD7', 'JD31', 'JD8', 'JD18', 'JD34', 'JD17', 'JD27', 'JD4']\n",
      "\n",
      "R10 → ['JD48', 'JD5', 'JD49', 'JD1', 'JD46', 'JD50', 'JD4', 'JD7', 'JD38', 'JD8']\n",
      "\n",
      "R11 → ['JD20', 'JD7', 'JD38', 'JD13', 'JD6', 'JD49', 'JD31', 'JD8', 'JD29', 'JD4']\n",
      "\n",
      "R12 → ['JD7', 'JD47', 'JD17', 'JD31', 'JD38', 'JD9', 'JD36', 'JD40', 'JD32', 'JD27']\n",
      "\n",
      "R13 → ['JD47', 'JD7', 'JD17', 'JD38', 'JD31', 'JD35', 'JD32', 'JD18', 'JD9', 'JD2']\n",
      "\n",
      "R14 → ['JD6', 'JD18', 'JD39', 'JD28', 'JD17', 'JD22', 'JD47', 'JD32', 'JD34', 'JD2']\n",
      "\n",
      "R15 → ['JD7', 'JD6', 'JD38', 'JD31', 'JD4', 'JD8', 'JD27', 'JD20', 'JD3', 'JD18']\n",
      "\n",
      "R16 → ['JD18', 'JD6', 'JD38', 'JD8', 'JD7', 'JD29', 'JD20', 'JD39', 'JD13', 'JD17']\n",
      "\n",
      "R17 → ['JD38', 'JD7', 'JD6', 'JD31', 'JD8', 'JD18', 'JD49', 'JD24', 'JD20', 'JD46']\n",
      "\n",
      "R18 → ['JD18', 'JD6', 'JD34', 'JD8', 'JD38', 'JD25', 'JD29', 'JD33', 'JD39', 'JD30']\n",
      "\n",
      "R19 → ['JD18', 'JD47', 'JD6', 'JD32', 'JD22', 'JD39', 'JD17', 'JD34', 'JD2', 'JD37']\n",
      "\n",
      "R20 → ['JD6', 'JD20', 'JD18', 'JD39', 'JD38', 'JD13', 'JD29', 'JD17', 'JD30', 'JD28']\n",
      "\n",
      "R21 → ['JD34', 'JD6', 'JD33', 'JD8', 'JD3', 'JD25', 'JD31', 'JD21', 'JD28', 'JD24']\n",
      "\n",
      "R22 → ['JD34', 'JD3', 'JD37', 'JD21', 'JD28', 'JD33', 'JD2', 'JD6', 'JD32', 'JD9']\n",
      "\n",
      "R23 → ['JD49', 'JD46', 'JD38', 'JD27', 'JD48', 'JD8', 'JD7', 'JD6', 'JD4', 'JD34']\n",
      "\n",
      "R24 → ['JD6', 'JD8', 'JD34', 'JD21', 'JD38', 'JD18', 'JD3', 'JD27', 'JD7', 'JD28']\n",
      "\n",
      "R25 → ['JD6', 'JD18', 'JD8', 'JD34', 'JD36', 'JD38', 'JD39', 'JD32', 'JD3', 'JD19']\n",
      "\n",
      "R26 → ['JD5', 'JD1', 'JD48', 'JD49', 'JD46', 'JD50', 'JD10', 'JD4', 'JD26', 'JD7']\n",
      "\n",
      "R27 → ['JD13', 'JD7', 'JD49', 'JD38', 'JD46', 'JD48', 'JD20', 'JD26', 'JD6', 'JD4']\n",
      "\n",
      "R28 → ['JD13', 'JD49', 'JD7', 'JD38', 'JD48', 'JD46', 'JD20', 'JD26', 'JD6', 'JD4']\n",
      "\n",
      "R29 → ['JD7', 'JD49', 'JD24', 'JD38', 'JD4', 'JD8', 'JD48', 'JD46', 'JD20', 'JD6']\n",
      "\n",
      "R30 → ['JD38', 'JD20', 'JD18', 'JD7', 'JD17', 'JD6', 'JD29', 'JD24', 'JD13', 'JD31']\n",
      "\n",
      "R31 → ['JD49', 'JD5', 'JD48', 'JD4', 'JD38', 'JD1', 'JD46', 'JD7', 'JD50', 'JD8']\n",
      "\n",
      "R32 → ['JD6', 'JD8', 'JD18', 'JD38', 'JD29', 'JD30', 'JD27', 'JD7', 'JD3', 'JD25']\n",
      "\n",
      "R33 → ['JD6', 'JD38', 'JD7', 'JD3', 'JD8', 'JD29', 'JD4', 'JD30', 'JD27', 'JD34']\n",
      "\n",
      "R34 → ['JD18', 'JD38', 'JD6', 'JD25', 'JD13', 'JD8', 'JD7', 'JD31', 'JD29', 'JD34']\n",
      "\n",
      "R35 → ['JD8', 'JD6', 'JD38', 'JD18', 'JD13', 'JD7', 'JD19', 'JD29', 'JD34', 'JD24']\n",
      "\n",
      "R36 → ['JD1', 'JD48', 'JD49', 'JD46', 'JD5', 'JD4', 'JD50', 'JD8', 'JD38', 'JD7']\n",
      "\n",
      "R37 → ['JD44', 'JD45', 'JD42', 'JD43', 'JD41', 'JD18', 'JD21', 'JD34', 'JD6', 'JD47']\n",
      "\n",
      "R38 → ['JD49', 'JD1', 'JD48', 'JD46', 'JD5', 'JD4', 'JD7', 'JD38', 'JD8', 'JD50']\n",
      "\n",
      "R39 → ['JD49', 'JD46', 'JD4', 'JD1', 'JD48', 'JD5', 'JD43', 'JD38', 'JD45', 'JD42']\n",
      "\n",
      "R40 → ['JD43', 'JD46', 'JD49', 'JD38', 'JD1', 'JD4', 'JD45', 'JD48', 'JD42', 'JD7']\n",
      "\n",
      "R41 → ['JD49', 'JD48', 'JD1', 'JD46', 'JD7', 'JD24', 'JD31', 'JD5', 'JD38', 'JD50']\n",
      "\n",
      "R42 → ['JD18', 'JD6', 'JD38', 'JD29', 'JD8', 'JD20', 'JD30', 'JD44', 'JD13', 'JD39']\n",
      "\n",
      "R43 → ['JD1', 'JD48', 'JD49', 'JD5', 'JD46', 'JD50', 'JD4', 'JD7', 'JD10', 'JD38']\n",
      "\n",
      "R44 → ['JD18', 'JD44', 'JD38', 'JD6', 'JD25', 'JD8', 'JD29', 'JD13', 'JD7', 'JD35']\n",
      "\n",
      "R45 → ['JD49', 'JD48', 'JD46', 'JD5', 'JD1', 'JD38', 'JD7', 'JD24', 'JD6', 'JD20']\n",
      "\n",
      "R46 → ['JD6', 'JD24', 'JD8', 'JD33', 'JD28', 'JD31', 'JD7', 'JD38', 'JD40', 'JD34']\n",
      "\n",
      "R47 → ['JD6', 'JD28', 'JD36', 'JD8', 'JD34', 'JD24', 'JD32', 'JD27', 'JD33', 'JD40']\n",
      "\n",
      "R48 → ['JD5', 'JD46', 'JD4', 'JD49', 'JD27', 'JD10', 'JD8', 'JD48', 'JD7', 'JD1']\n",
      "\n",
      "R49 → ['JD6', 'JD8', 'JD7', 'JD38', 'JD24', 'JD28', 'JD34', 'JD21', 'JD31', 'JD27']\n",
      "\n",
      "R50 → ['JD6', 'JD28', 'JD3', 'JD22', 'JD34', 'JD39', 'JD33', 'JD8', 'JD21', 'JD32']\n"
     ]
    }
   ],
   "source": [
    "for rid in sorted(retrieved, key=lambda s:int(s[1:])):\n",
    "    print(f\"\\n{rid} → {retrieved[rid]}\")"
   ]
  },
  {
   "cell_type": "code",
   "execution_count": null,
   "id": "2133544e-b6fb-423c-8f0c-8629295af0d8",
   "metadata": {},
   "outputs": [],
   "source": []
  }
 ],
 "metadata": {
  "kernelspec": {
   "display_name": "Python 3 (ipykernel)",
   "language": "python",
   "name": "python3"
  },
  "language_info": {
   "codemirror_mode": {
    "name": "ipython",
    "version": 3
   },
   "file_extension": ".py",
   "mimetype": "text/x-python",
   "name": "python",
   "nbconvert_exporter": "python",
   "pygments_lexer": "ipython3",
   "version": "3.12.9"
  }
 },
 "nbformat": 4,
 "nbformat_minor": 5
}
