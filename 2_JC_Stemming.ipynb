{
 "cells": [
  {
   "cell_type": "code",
   "execution_count": 28,
   "id": "5996ff75-92b8-4a2b-927d-f37f32a96b9b",
   "metadata": {},
   "outputs": [],
   "source": [
    "import pandas as pd\n",
    "import os\n",
    "import fitz  # PyMuPDF\n",
    "import pandas as pd\n",
    "import re\n",
    "from collections import defaultdict\n",
    "import spacy\n",
    "import math\n",
    "pd.set_option('display.max_colwidth', None)\n",
    "nlp = spacy.load(\"en_core_web_sm\")"
   ]
  },
  {
   "cell_type": "code",
   "execution_count": 29,
   "id": "fd00bb97-1511-4626-815e-5b0bbaca2b41",
   "metadata": {},
   "outputs": [],
   "source": [
    "def show_common_tokens(resume_name, jd_id, resume_tokens, jd_data):\n",
    "    if resume_name not in resume_tokens:\n",
    "        print(f\"Resume '{resume_name}' not found.\")\n",
    "        return\n",
    "    if jd_id not in jd_data:\n",
    "        print(f\"JD ID '{jd_id}' not found.\")\n",
    "        return\n",
    "    \n",
    "    r_tokens = resume_tokens[resume_name]\n",
    "    jd_tokens = jd_data[jd_id]['tokens']\n",
    "    common = r_tokens.intersection(jd_tokens)\n",
    "    union = r_tokens.union(jd_tokens)\n",
    "    \n",
    "    print(f\"\\n=== Common Tokens between Resume '{resume_name}' and JD ID {jd_id} ===\")\n",
    "    print(f\"=== Resume token length: {len(r_tokens)} and JD token length: {len(jd_tokens)} ===\")\n",
    "    print(f\"=== Intersection tokens length: {len(common)} | Union tokens length: {len(union)} ===\")\n",
    "    print(f\"Job Title: {jd_data[jd_id]['job_title']}\")\n",
    "    print(f\"Jaccard Score: {jaccard_similarity(r_tokens, jd_tokens):.3f}\")\n",
    "    print(\"Common Tokens (sorted):\", sorted(common))\n",
    "    # for word in sorted(common):\n",
    "    #     print(f\"- {word}\")"
   ]
  },
  {
   "cell_type": "code",
   "execution_count": 30,
   "id": "f0495c7b-b0ef-4c9d-bf53-4a545791a206",
   "metadata": {},
   "outputs": [],
   "source": [
    "def print_full_jd(jd_data, jd_id):\n",
    "    if jd_id not in jd_data:\n",
    "        print(f\"JD ID {jd_id} not found.\")\n",
    "        return\n",
    "    print(f\"\\n=== JD ID {jd_id} ===\")\n",
    "    print(f\"Job Title: {jd_data[jd_id]['job_title']}\")\n",
    "    print(f\"Description:\\n{jd_data[jd_id]['full_desc']}\")"
   ]
  },
  {
   "cell_type": "code",
   "execution_count": 31,
   "id": "d19a8412-fe6c-403f-89b6-129985fc1d62",
   "metadata": {},
   "outputs": [],
   "source": [
    "def extract_text_from_pdf(pdf_path):\n",
    "    text = \"\"\n",
    "    try:\n",
    "        with fitz.open(pdf_path) as doc:\n",
    "            for page in doc:\n",
    "                text += page.get_text()\n",
    "    except Exception as e:\n",
    "        print(f\"Error reading {pdf_path}: {e}\")\n",
    "    return text"
   ]
  },
  {
   "cell_type": "code",
   "execution_count": 32,
   "id": "b1a048bd-4f7e-4f38-bcca-0dd897173424",
   "metadata": {},
   "outputs": [],
   "source": [
    "def tokenize(text):\n",
    "    doc = nlp(text.lower())\n",
    "    tokens = set()\n",
    "    for token in doc:\n",
    "        if not token.is_stop and not token.is_punct and not token.like_num and token.is_alpha:\n",
    "            tokens.add(token.lemma_)\n",
    "    return tokens"
   ]
  },
  {
   "cell_type": "code",
   "execution_count": 33,
   "id": "15d2d63b-1cb2-4182-a7dd-e7a035a54059",
   "metadata": {},
   "outputs": [],
   "source": [
    "def jaccard_similarity(set1, set2):\n",
    "    intersection = set1.intersection(set2)\n",
    "    union = set1.union(set2)\n",
    "    return len(intersection) / len(union) if union else 0"
   ]
  },
  {
   "cell_type": "code",
   "execution_count": 34,
   "id": "0a6812e5-983c-4e6a-b186-defedd853f03",
   "metadata": {},
   "outputs": [],
   "source": [
    "def process_resumes(folder_path):\n",
    "    resume_data = {}\n",
    "    for fname in os.listdir(folder_path):\n",
    "        if fname.endswith('.pdf'):\n",
    "            full_path = os.path.join(folder_path, fname)\n",
    "            text = extract_text_from_pdf(full_path)\n",
    "            tokens = tokenize(text)\n",
    "            resume_data[fname] = tokens\n",
    "    return resume_data"
   ]
  },
  {
   "cell_type": "code",
   "execution_count": 35,
   "id": "cfdf46b7-7b9b-4318-ab58-3b8c9ac6138b",
   "metadata": {},
   "outputs": [],
   "source": [
    "def process_job_descriptions(csv_path):\n",
    "    df = pd.read_csv(csv_path)\n",
    "    jd_data = {}\n",
    "    for idx, row in df.iterrows():\n",
    "        jd_text = str(row['Job Description'])\n",
    "        tokens = tokenize(jd_text)\n",
    "        jd_data[idx] = {\n",
    "            'job_title': row.get('Job Title', ''),\n",
    "            'tokens': tokens,\n",
    "            'full_desc': jd_text.strip()\n",
    "        }\n",
    "    return jd_data"
   ]
  },
  {
   "cell_type": "code",
   "execution_count": 36,
   "id": "1ffacf10-046f-4956-9ffa-d170890a6056",
   "metadata": {},
   "outputs": [],
   "source": [
    "def match_resumes_to_jobs(resume_tokens, jd_data, top_k=10):\n",
    "    results = defaultdict(list)\n",
    "    for resume_name, r_tokens in resume_tokens.items():\n",
    "        scores = []\n",
    "        for jd_id, jd_info in jd_data.items():\n",
    "            score = jaccard_similarity(r_tokens, jd_info['tokens'])\n",
    "            scores.append((jd_id, score, jd_info['job_title']))\n",
    "        top_matches = sorted(scores, key=lambda x: -x[1])[:top_k]\n",
    "        results[resume_name] = top_matches\n",
    "    return results"
   ]
  },
  {
   "cell_type": "code",
   "execution_count": 37,
   "id": "f6af8792-e633-43de-ae66-99a4c8a5b43b",
   "metadata": {},
   "outputs": [],
   "source": [
    "jd_csv_path = 'job_title_des.csv'\n",
    "jd_data = process_job_descriptions(jd_csv_path)"
   ]
  },
  {
   "cell_type": "code",
   "execution_count": 38,
   "id": "5b265dda-c28e-4dae-b28b-807dcd71df06",
   "metadata": {},
   "outputs": [],
   "source": [
    "categories = ['INFORMATION-TECHNOLOGY']\n",
    "base_resume_dir = './resume_pds/data/data'\n",
    "\n",
    "resume_tokens = {}\n",
    "for category in categories:\n",
    "    folder_path = os.path.join(base_resume_dir, category)\n",
    "    resume_tokens.update(process_resumes(folder_path))"
   ]
  },
  {
   "cell_type": "code",
   "execution_count": 39,
   "id": "ebcacee6-14d3-4592-824d-2d87baefcf38",
   "metadata": {},
   "outputs": [],
   "source": [
    "results = match_resumes_to_jobs(resume_tokens, jd_data)"
   ]
  },
  {
   "cell_type": "code",
   "execution_count": 40,
   "id": "cf46785e-ec04-44ed-8391-3d45b0d6a907",
   "metadata": {},
   "outputs": [
    {
     "name": "stdout",
     "output_type": "stream",
     "text": [
      "\n",
      "Resume: 18176523.pdf\n",
      "  JD ID: 580 | Title: Network Administrator... | Score: 0.202\n",
      "  JD ID: 2146 | Title: Network Administrator... | Score: 0.199\n",
      "  JD ID: 1271 | Title: Database Administrator... | Score: 0.194\n",
      "  JD ID: 1846 | Title: Database Administrator... | Score: 0.189\n",
      "  JD ID: 18 | Title: Database Administrator... | Score: 0.189\n",
      "  JD ID: 1071 | Title: Database Administrator... | Score: 0.186\n",
      "  JD ID: 69 | Title: Database Administrator... | Score: 0.186\n",
      "  JD ID: 1655 | Title: Network Administrator... | Score: 0.186\n",
      "  JD ID: 552 | Title: Database Administrator... | Score: 0.184\n",
      "  JD ID: 530 | Title: Network Administrator... | Score: 0.183\n",
      "\n",
      "Resume: 25857360.pdf\n",
      "  JD ID: 2169 | Title: Database Administrator... | Score: 0.176\n",
      "  JD ID: 420 | Title: Database Administrator... | Score: 0.171\n",
      "  JD ID: 1979 | Title: Database Administrator... | Score: 0.160\n",
      "  JD ID: 534 | Title: Database Administrator... | Score: 0.158\n",
      "  JD ID: 1205 | Title: Database Administrator... | Score: 0.156\n",
      "  JD ID: 1459 | Title: Database Administrator... | Score: 0.152\n",
      "  JD ID: 23 | Title: Database Administrator... | Score: 0.151\n",
      "  JD ID: 1168 | Title: Database Administrator... | Score: 0.145\n",
      "  JD ID: 1454 | Title: Database Administrator... | Score: 0.142\n",
      "  JD ID: 926 | Title: Database Administrator... | Score: 0.140\n"
     ]
    }
   ],
   "source": [
    "ct = 0\n",
    "for resume, matches in results.items():\n",
    "    print(f\"\\nResume: {resume}\")\n",
    "    for jd_id, score, title in matches:\n",
    "        print(f\"  JD ID: {jd_id} | Title: {title[:40]}... | Score: {score:.3f}\")\n",
    "\n",
    "    ct+=1\n",
    "    if(ct > 1):\n",
    "        break"
   ]
  },
  {
   "cell_type": "code",
   "execution_count": 41,
   "id": "70ec839f-ab6e-41ee-a90b-f7f3ab9b6e09",
   "metadata": {},
   "outputs": [
    {
     "name": "stdout",
     "output_type": "stream",
     "text": [
      "0.2300194931773879\n"
     ]
    }
   ],
   "source": [
    "max_score = 0\n",
    "for resume, matches in results.items():\n",
    "    for jd_id, score, title in matches:\n",
    "        max_score = max(max_score, score)\n",
    "\n",
    "print(max_score)"
   ]
  },
  {
   "cell_type": "code",
   "execution_count": 42,
   "id": "12274ca0-85b3-44ef-b0c3-b685cd2173e9",
   "metadata": {},
   "outputs": [],
   "source": [
    "# After matching resumes and getting resume_tokens and jd_data\n",
    "# show_common_tokens(\"20674668.pdf\", 1088, resume_tokens, jd_data)"
   ]
  },
  {
   "cell_type": "code",
   "execution_count": 43,
   "id": "2343c8bb-e2b9-4392-84f7-b9e5f1f73951",
   "metadata": {},
   "outputs": [],
   "source": [
    "# print_full_jd(jd_data, jd_id=1088)"
   ]
  },
  {
   "cell_type": "code",
   "execution_count": 44,
   "id": "b1a3c960-0e5f-4abe-b50f-10c2f6b78949",
   "metadata": {},
   "outputs": [],
   "source": [
    "import matplotlib.pyplot as plt\n",
    "\n",
    "def plot_jaccard_score_distribution(results_jaccard):\n",
    "    \"\"\"Plot histogram of Jaccard similarity scores.\"\"\"\n",
    "    all_scores = [score for matches in results_jaccard.values() for _, score, _ in matches]\n",
    "\n",
    "    plt.figure(figsize=(8, 5))\n",
    "    plt.hist(all_scores, bins=20, color='skyblue', edgecolor='black')\n",
    "    plt.title(\"Jaccard Similarity Score Distribution\")\n",
    "    plt.xlabel(\"Similarity Score\")\n",
    "    plt.ylabel(\"Frequency\")\n",
    "    plt.grid(True)\n",
    "    plt.tight_layout()\n",
    "    plt.show()\n",
    "    plt.savefig('jaccard_stem_dist.png')"
   ]
  },
  {
   "cell_type": "code",
   "execution_count": 45,
   "id": "45d89ed5-9214-4dfb-b6c7-8f385d1337b4",
   "metadata": {},
   "outputs": [
    {
     "data": {
      "image/png": "[encoded data removed]",
      "text/plain": [
       "<Figure size 800x500 with 1 Axes>"
      ]
     },
     "metadata": {},
     "output_type": "display_data"
    },
    {
     "data": {
      "text/plain": [
       "<Figure size 640x480 with 0 Axes>"
      ]
     },
     "metadata": {},
     "output_type": "display_data"
    }
   ],
   "source": [
    "plot_jaccard_score_distribution(results)"
   ]
  },
  {
   "cell_type": "code",
   "execution_count": 46,
   "id": "77a3a906-b49a-47a5-b78a-0b7d87906501",
   "metadata": {},
   "outputs": [],
   "source": [
    "res_df = pd.read_csv('gold_resumes.csv')\n",
    "jd_df  = pd.read_csv('gold_jds.csv')"
   ]
  },
  {
   "cell_type": "code",
   "execution_count": 47,
   "id": "2ef63ac2-bf6f-4c13-a83f-cbc0c7de4bbb",
   "metadata": {},
   "outputs": [],
   "source": [
    "gold = {\n",
    "    \"R1\": [\"J1\",\"J2\",\"J3\",\"J4\"],\n",
    "    \"R2\": [\"J5\",\"J6\",\"J7\",\"J8\"],\n",
    "    \"R3\": [\"J9\",\"J10\",\"J11\",\"J12\"],\n",
    "    \"R4\": [\"J13\",\"J14\",\"J15\",\"J16\"],\n",
    "    \"R5\": [\"J17\",\"J18\",\"J19\",\"J20\"],\n",
    "}"
   ]
  },
  {
   "cell_type": "code",
   "execution_count": 48,
   "id": "1aa57a4b-35f3-4c85-b988-80f4df8f48a6",
   "metadata": {},
   "outputs": [],
   "source": [
    "# build token dicts keyed by the raw IDs (“R1”, “R2”, … and “J1”, …)\n",
    "resume_tokens = {\n",
    "    row.Resume_ID: tokenize(row.Resume_Text)\n",
    "    for _, row in res_df.iterrows()\n",
    "}"
   ]
  },
  {
   "cell_type": "code",
   "execution_count": 49,
   "id": "60aae6fc-6f87-46ec-a603-b69932a755be",
   "metadata": {},
   "outputs": [],
   "source": [
    "jd_data = {\n",
    "    row.Job_ID: {\n",
    "       'job_title': row.Job_ID,\n",
    "       'tokens': tokenize(row.Job_Text),\n",
    "       'full_desc': row.Job_Text\n",
    "    }\n",
    "    for _, row in jd_df.iterrows()\n",
    "}"
   ]
  },
  {
   "cell_type": "code",
   "execution_count": 50,
   "id": "e9f87970-9c05-4656-83c8-abf981160c72",
   "metadata": {},
   "outputs": [],
   "source": [
    "results = match_resumes_to_jobs(resume_tokens, jd_data, top_k=4)"
   ]
  },
  {
   "cell_type": "code",
   "execution_count": 51,
   "id": "4876d348-2cf0-4f03-9b3a-7a78c82e821b",
   "metadata": {},
   "outputs": [],
   "source": [
    "# ——— evaluation metrics ———\n",
    "def precision_at_k(recs, gold_set, k):\n",
    "    return len(set(recs[:k]) & gold_set) / k\n",
    "\n",
    "def recall_at_k(recs, gold_set, k):\n",
    "    return len(set(recs[:k]) & gold_set) / len(gold_set)\n",
    "\n",
    "def topk_accuracy(recs, gold_set, k):\n",
    "    return 1.0 if set(recs[:k]) & gold_set else 0.0\n",
    "\n",
    "def reciprocal_rank(recs, gold_set):\n",
    "    for i, jid in enumerate(recs, start=1):\n",
    "        if jid in gold_set:\n",
    "            return 1.0 / i\n",
    "    return 0.0\n",
    "\n",
    "def dcg_at_k(rels, k):\n",
    "    return sum(r / math.log2(i+1) for i, r in enumerate(rels[:k], start=1))\n",
    "\n",
    "def ndcg_at_k(recs, gold_set, k):\n",
    "    rels = [1 if jid in gold_set else 0 for jid in recs[:k]]\n",
    "    dcg  = dcg_at_k(rels, k)\n",
    "    ideal = [1] * min(len(gold_set), k)\n",
    "    idcg = dcg_at_k(ideal, k)\n",
    "    return dcg / idcg if idcg>0 else 0.0\n",
    "\n",
    "def evaluate(results, gold, k=4):\n",
    "    P, R, T, RR, N = [], [], [], [], []\n",
    "    for rid, ranked in results.items():\n",
    "        if rid not in gold:\n",
    "            continue\n",
    "        gold_set = set(gold[rid])\n",
    "        # each entry in ranked is (jid, score, title)\n",
    "        recs = [jid for jid, _, _ in ranked]\n",
    "\n",
    "        P.append( precision_at_k(recs, gold_set, k) )\n",
    "        R.append( recall_at_k(recs, gold_set, k)    )\n",
    "        T.append( topk_accuracy(recs, gold_set, k)  )\n",
    "        RR.append(reciprocal_rank(recs, gold_set)   )\n",
    "        N.append( ndcg_at_k(recs, gold_set, k)      )\n",
    "\n",
    "    return {\n",
    "        f\"Precision@{k}\":   sum(P)/len(P),\n",
    "        f\"Recall@{k}\":      sum(R)/len(R),\n",
    "        f\"Top-{k} Acc.\":    sum(T)/len(T),\n",
    "        \"MRR\":              sum(RR)/len(RR),\n",
    "        f\"NDCG@{k}\":        sum(N)/len(N),\n",
    "    }"
   ]
  },
  {
   "cell_type": "code",
   "execution_count": 52,
   "id": "28b0f23e-3675-4260-82b4-2fa060c87ae1",
   "metadata": {},
   "outputs": [
    {
     "name": "stdout",
     "output_type": "stream",
     "text": [
      "Precision@4: 0.700\n",
      "Recall@4: 0.700\n",
      "Top-4 Acc.: 1.000\n",
      "MRR: 1.000\n",
      "NDCG@4: 0.762\n"
     ]
    }
   ],
   "source": [
    "metrics = evaluate(results, gold, k=4)\n",
    "for name, val in metrics.items():\n",
    "    print(f\"{name}: {val:.3f}\")"
   ]
  },
  {
   "cell_type": "code",
   "execution_count": null,
   "id": "2df63f5d-becf-43a0-bb20-c8c9c22a73bf",
   "metadata": {},
   "outputs": [],
   "source": []
  }
 ],
 "metadata": {
  "kernelspec": {
   "display_name": "Python 3 (ipykernel)",
   "language": "python",
   "name": "python3"
  },
  "language_info": {
   "codemirror_mode": {
    "name": "ipython",
    "version": 3
   },
   "file_extension": ".py",
   "mimetype": "text/x-python",
   "name": "python",
   "nbconvert_exporter": "python",
   "pygments_lexer": "ipython3",
   "version": "3.12.9"
  }
 },
 "nbformat": 4,
 "nbformat_minor": 5
}
